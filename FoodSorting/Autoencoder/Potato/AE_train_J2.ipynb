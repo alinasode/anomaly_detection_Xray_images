{
 "cells": [
  {
   "cell_type": "markdown",
   "metadata": {},
   "source": [
    "# Autoencoder: Train Model"
   ]
  },
  {
   "cell_type": "code",
   "execution_count": 1,
   "metadata": {},
   "outputs": [],
   "source": [
    "import numpy as np\n",
    "\n",
    "import matplotlib.pyplot as plt\n",
    "from matplotlib.pyplot import axis, colorbar, imshow, show, figure, subplot\n",
    "from matplotlib import cm\n",
    "import matplotlib as mpl\n",
    "mpl.rc('axes', labelsize=18)\n",
    "mpl.rc('xtick', labelsize=16)\n",
    "mpl.rc('ytick', labelsize=16)\n",
    "%matplotlib inline\n",
    "\n",
    "import glob\n",
    "\n",
    "import pandas as pd\n",
    "import seaborn as sns\n",
    "sns.set_style(\"darkgrid\")\n",
    "\n",
    "from time import time\n",
    "from tqdm import tqdm\n",
    "\n",
    "import cv2\n",
    "\n",
    "import sklearn\n",
    "from sklearn.model_selection import train_test_split\n",
    "\n",
    "## ----- GPU ------------------------------------\n",
    "import os\n",
    "os.environ['CUDA_VISIBLE_DEVICES']='0'    # use of GPU 0 (ERDA) (use before importing torch or tensorflow/keeas)\n",
    "## ----------------------------------------------\n",
    "\n",
    "import tensorflow as tf\n",
    "import keras\n",
    "from keras.layers import Conv2D, Conv2DTranspose, Input, Flatten, Dense, Lambda, Reshape\n",
    "from keras.layers import BatchNormalization, ReLU, LeakyReLU\n",
    "from keras.models import Model\n",
    "from keras.losses import binary_crossentropy, mse\n",
    "from keras.activations import relu\n",
    "from keras.callbacks import Callback, ModelCheckpoint\n",
    "from keras import backend as K                         #contains calls for tensor manipulations"
   ]
  },
  {
   "cell_type": "code",
   "execution_count": 2,
   "metadata": {},
   "outputs": [
    {
     "name": "stdout",
     "output_type": "stream",
     "text": [
      "2.3.0\n",
      "2.4.3\n"
     ]
    }
   ],
   "source": [
    "print (tf.__version__)\n",
    "print (keras.__version__)"
   ]
  },
  {
   "cell_type": "code",
   "execution_count": 3,
   "metadata": {},
   "outputs": [],
   "source": [
    "tf.random.set_seed(42)\n",
    "np.random.seed(42)"
   ]
  },
  {
   "cell_type": "markdown",
   "metadata": {},
   "source": [
    "# Initializing"
   ]
  },
  {
   "cell_type": "code",
   "execution_count": 4,
   "metadata": {},
   "outputs": [
    {
     "name": "stdout",
     "output_type": "stream",
     "text": [
      "NORMAL_TRAIN_AUG:       /home/jovyan/work/Speciale/FoodSorting/generated_dataset/Potato//DataAugmentation/NormalTrainAugmentations\n",
      "NORMAL_VALIDATION_AUG:  /home/jovyan/work/Speciale/FoodSorting/generated_dataset/Potato//DataAugmentation/NormalValidationAugmentations\n",
      "NORMAL_TEST_AUG:        /home/jovyan/work/Speciale/FoodSorting/generated_dataset/Potato//DataAugmentation/NormalTestAugmentations\n",
      "ANOMALY1_AUG:           /home/jovyan/work/Speciale/FoodSorting/generated_dataset/Potato//DataAugmentation/Anomaly1Augmentations\n",
      "ANOMALY2_AUG:           /home/jovyan/work/Speciale/FoodSorting/generated_dataset/Potato//DataAugmentation/Anomaly2Augmentations\n"
     ]
    }
   ],
   "source": [
    "from utils_ae_potato_paths import *\n",
    "\n",
    "# Get work directions for augmentated data set:\n",
    "print (\"NORMAL_TRAIN_AUG:      \", NORMAL_TRAIN_AUG)\n",
    "print (\"NORMAL_VALIDATION_AUG: \", NORMAL_VAL_AUG)\n",
    "print (\"NORMAL_TEST_AUG:       \", NORMAL_TEST_AUG)\n",
    "print (\"ANOMALY1_AUG:          \", ANOMALY1_AUG)\n",
    "print (\"ANOMALY2_AUG:          \", ANOMALY2_AUG)"
   ]
  },
  {
   "cell_type": "code",
   "execution_count": 5,
   "metadata": {},
   "outputs": [
    {
     "name": "stdout",
     "output_type": "stream",
     "text": [
      "Which Folder The Models Are Saved In: saved_models/latent2\n"
     ]
    }
   ],
   "source": [
    "# What latent dimension and filter size are we using?:\n",
    "latent_dim = 2\n",
    "filters    = 32\n",
    "\n",
    "# Get work direction for saving files:\n",
    "SAVE_FOLDER = f'saved_models/latent{latent_dim}'\n",
    "print (\"Which Folder The Models Are Saved In:\", SAVE_FOLDER)"
   ]
  },
  {
   "cell_type": "code",
   "execution_count": 6,
   "metadata": {},
   "outputs": [
    {
     "name": "stdout",
     "output_type": "stream",
     "text": [
      "[INFO] deleting existing files in folder...\n",
      "         done in 0.005 minutes\n"
     ]
    }
   ],
   "source": [
    "# Delete all existing files in folder where models are saved:\n",
    "print(\"[INFO] deleting existing files in folder...\")\n",
    "t0 = time()\n",
    "\n",
    "files = glob.glob(f'{SAVE_FOLDER}/*')\n",
    "for f in files:\n",
    "    os.remove(f)\n",
    "\n",
    "print (\"         done in %0.3f minutes\" % ((time() - t0)/60))"
   ]
  },
  {
   "cell_type": "markdown",
   "metadata": {},
   "source": [
    "## Load Data\n"
   ]
  },
  {
   "cell_type": "markdown",
   "metadata": {},
   "source": [
    "### Import Utils"
   ]
  },
  {
   "cell_type": "code",
   "execution_count": 7,
   "metadata": {},
   "outputs": [],
   "source": [
    "from utils_VAE_AE import get_labels"
   ]
  },
  {
   "cell_type": "markdown",
   "metadata": {},
   "source": [
    "### Quick Investigation of Ground Truths"
   ]
  },
  {
   "cell_type": "code",
   "execution_count": 8,
   "metadata": {},
   "outputs": [
    {
     "name": "stdout",
     "output_type": "stream",
     "text": [
      "Number of \"normal\" training images is:     1639\n",
      "Number of \"normal\" validation images is:   80\n",
      "Number of \"normal\" test images is:         320\n",
      "Total number of \"anomaly\" images is:       680\n"
     ]
    }
   ],
   "source": [
    "# Glob the directories and get the lists of good and bad images\n",
    "good_train_fns = [f for f in os.listdir(NORMAL_TRAIN_AUG) if not f.startswith('.')]\n",
    "good_val_fns = [f for f in os.listdir(NORMAL_VAL_AUG) if not f.startswith('.')]\n",
    "good_test_fns = [f for f in os.listdir(NORMAL_TEST_AUG) if not f.startswith('.')]\n",
    "bad1_fns = [f for f in os.listdir(ANOMALY1_AUG) if not f.startswith('.')]\n",
    "bad2_fns = [f for f in os.listdir(ANOMALY2_AUG) if not f.startswith('.')]\n",
    "\n",
    "print('Number of \"normal\" training images is:     {}'.format(len(good_train_fns)))\n",
    "print('Number of \"normal\" validation images is:   {}'.format(len(good_val_fns)))\n",
    "print('Number of \"normal\" test images is:         {}'.format(len(good_test_fns)))\n",
    "print('Total number of \"anomaly\" images is:       {}'.format(len(bad1_fns) + len(bad2_fns)))"
   ]
  },
  {
   "cell_type": "code",
   "execution_count": 9,
   "metadata": {},
   "outputs": [
    {
     "name": "stdout",
     "output_type": "stream",
     "text": [
      "> Procentage of normal samples (ground truth):   74.99 %\n",
      "> Procentage of anomaly samples (ground truth):  25.01 %\n"
     ]
    }
   ],
   "source": [
    "# compute procentage of bad images vs good images:\n",
    "normal_fns = len(good_train_fns) + len(good_val_fns) + len(good_test_fns)\n",
    "anomaly_fns = len(bad1_fns + bad2_fns)\n",
    "print(f\"> Procentage of normal samples (ground truth):   {(normal_fns / (normal_fns + anomaly_fns)) * 100:.2f} %\")\n",
    "print(f\"> Procentage of anomaly samples (ground truth):  {(anomaly_fns / (normal_fns + anomaly_fns)) * 100:.2f} %\")"
   ]
  },
  {
   "cell_type": "markdown",
   "metadata": {},
   "source": [
    "### Load Normal Data\n",
    "\n",
    "Load normal samples in pre-splitted data sets: train, valdiation and test.\n"
   ]
  },
  {
   "cell_type": "code",
   "execution_count": 10,
   "metadata": {},
   "outputs": [
    {
     "name": "stdout",
     "output_type": "stream",
     "text": [
      "[INFO] loading normal training images...\n",
      "          done\n"
     ]
    }
   ],
   "source": [
    "print(\"[INFO] loading normal training images...\")\n",
    "trainX = [cv2.imread(file, 0) for file in glob.glob(f\"{NORMAL_TRAIN_AUG}/*.png\")]  # read as grayscale\n",
    "trainX = np.array(trainX)\n",
    "print(\"          done\")\n",
    "\n",
    "# create a corresponding list of labels:\n",
    "trainY = get_labels(trainX, 0)"
   ]
  },
  {
   "cell_type": "code",
   "execution_count": 11,
   "metadata": {},
   "outputs": [
    {
     "name": "stdout",
     "output_type": "stream",
     "text": [
      "[INFO] loading normal validation images...\n",
      "          done\n"
     ]
    }
   ],
   "source": [
    "print(\"[INFO] loading normal validation images...\")\n",
    "x_normal_val = [cv2.imread(file, 0) for file in glob.glob(f\"{NORMAL_VAL_AUG}/*.png\")]  # read as grayscale\n",
    "x_normal_val = np.array(x_normal_val)\n",
    "print(\"          done\")\n",
    "\n",
    "# create a corresponding list of labels:\n",
    "y_normal_val = get_labels(x_normal_val, 0)"
   ]
  },
  {
   "cell_type": "code",
   "execution_count": 12,
   "metadata": {},
   "outputs": [
    {
     "name": "stdout",
     "output_type": "stream",
     "text": [
      "[INFO] loading normal testing images...\n",
      "          done\n"
     ]
    }
   ],
   "source": [
    "print(\"[INFO] loading normal testing images...\")\n",
    "x_normal_test = [cv2.imread(file, 0) for file in glob.glob(f\"{NORMAL_TEST_AUG}/*.png\")]  # read as grayscale\n",
    "x_normal_test = np.array(x_normal_test)\n",
    "print(\"          done\")\n",
    "\n",
    "# create a corresponding list of labels:\n",
    "y_normal_test = get_labels(x_normal_test, 0)"
   ]
  },
  {
   "cell_type": "markdown",
   "metadata": {},
   "source": [
    "### Load Anomaly Class 1 Data (i.e. 'metal' sampels)"
   ]
  },
  {
   "cell_type": "code",
   "execution_count": 13,
   "metadata": {},
   "outputs": [
    {
     "name": "stdout",
     "output_type": "stream",
     "text": [
      "[INFO] loading anomaly class 1 ('metal') images...\n",
      "          done\n"
     ]
    }
   ],
   "source": [
    "print(\"[INFO] loading anomaly class 1 ('metal') images...\")\n",
    "x_metal = [cv2.imread(file, 0) for file in glob.glob(f\"{ANOMALY1_AUG}/*.png\")]  # read as grayscale\n",
    "x_metal = np.array(x_metal)\n",
    "print(\"          done\")\n",
    "\n",
    "# create a corresponding list of labels:\n",
    "y_metal = get_labels(x_metal, 1)"
   ]
  },
  {
   "cell_type": "markdown",
   "metadata": {},
   "source": [
    "### Load Anomaly Class 2 Data (i.e. 'hollow' sampels)"
   ]
  },
  {
   "cell_type": "code",
   "execution_count": 14,
   "metadata": {},
   "outputs": [
    {
     "name": "stdout",
     "output_type": "stream",
     "text": [
      "[INFO] loading anomaly class 2 ('hollow') images...\n",
      "          done\n"
     ]
    }
   ],
   "source": [
    "print(\"[INFO] loading anomaly class 2 ('hollow') images...\")\n",
    "x_hollow = [cv2.imread(file, 0) for file in glob.glob(f\"{ANOMALY2_AUG}/*.png\")]  # read as grayscale\n",
    "x_hollow = np.array(x_hollow)\n",
    "print(\"          done\")\n",
    "\n",
    "# create a corresponding list of labels:\n",
    "y_hollow = get_labels(x_hollow, 2)"
   ]
  },
  {
   "cell_type": "markdown",
   "metadata": {},
   "source": [
    "### Combine normal samples and anomaly samples and split them into training, validation and test sets\n",
    "\n",
    "\n",
    "`label 0` == Normal Samples (=> Perfect' Samples)\n",
    "\n",
    "`label 1` == Anomaly 1 Samples (=> 'Metal' Samples)\n",
    "\n",
    "`label 2` == Anomaly 2 Samples (=> 'Hollow' Samples)\n",
    "\n",
    "Train and Validation sets only consists of `Normal Data`, aka. `label 0`.\n"
   ]
  },
  {
   "cell_type": "code",
   "execution_count": 15,
   "metadata": {},
   "outputs": [],
   "source": [
    "# combine pre-loaded validation and testing set into a new testing set:\n",
    "testvalX = np.vstack((x_normal_val, x_normal_test))\n",
    "testvalY = get_labels(testvalX, 0)\n",
    "\n",
    "# randomly split in order to make new validation set:\n",
    "NoUsageX, valX, NoUsageY, valY = train_test_split(testvalX, testvalY, test_size=0.25, random_state=4345672)"
   ]
  },
  {
   "cell_type": "code",
   "execution_count": 16,
   "metadata": {},
   "outputs": [],
   "source": [
    "\"\"\" Testing set \"\"\"\n",
    "# combine pre-loaded validation and testing set into a new testing set:\n",
    "testNormalX = np.vstack((x_normal_val, x_normal_test))\n",
    "testNormalY = get_labels(testNormalX, 0)\n",
    "\n",
    "# Anomaly Class 1 (i.e. 'metal' samples):\n",
    "testAnomaly1X, testAnomaly1Y = x_metal, y_metal\n",
    "\n",
    "# Anomaly Class 2 (i.e. 'hollow' samples):\n",
    "testAnomaly2X, testAnomaly2Y = x_hollow, y_hollow\n",
    "\n",
    "# Combine all testing data in one array (the test set is NOT used during any part but inference):\n",
    "testAllX = np.vstack((testNormalX, testAnomaly1X, testAnomaly2X))\n",
    "testAllY = np.hstack((testNormalY, testAnomaly1Y, testAnomaly2Y))"
   ]
  },
  {
   "cell_type": "markdown",
   "metadata": {},
   "source": [
    "## Check Data Dimensions and Distributions\n"
   ]
  },
  {
   "cell_type": "markdown",
   "metadata": {},
   "source": [
    "### Inspect data shapes"
   ]
  },
  {
   "cell_type": "code",
   "execution_count": 17,
   "metadata": {},
   "outputs": [
    {
     "name": "stdout",
     "output_type": "stream",
     "text": [
      "Training set:\n",
      " > images: (1639, 128, 128)\n",
      " > labels: (1639,)\n",
      "\n",
      "Validation set:\n",
      " > images: (100, 128, 128)\n",
      " > labels: (100,)\n",
      "\n",
      "Test set:\n",
      " > images: (1080, 128, 128)\n",
      " > labels: (1080,)\n",
      "\t'Normal' test set:\n",
      "\t  > images: (400, 128, 128)\n",
      "\t  > labels: (400,)\n",
      "\t'Anomaly 1' test set:\n",
      "\t  > images: (392, 128, 128)\n",
      "\t  > labels: (392,)\n",
      "\t'Anomaly 2' test set:\n",
      "\t  > images: (288, 128, 128)\n",
      "\t  > labels: (288,)\n"
     ]
    }
   ],
   "source": [
    "print(\"Training set:\")\n",
    "print(\" > images:\", trainX.shape)\n",
    "print(\" > labels:\", trainY.shape)\n",
    "print (\"\")\n",
    "\n",
    "print(\"Validation set:\")\n",
    "print(\" > images:\", valX.shape)\n",
    "print(\" > labels:\", valY.shape)\n",
    "print (\"\")\n",
    "\n",
    "print(\"Test set:\")\n",
    "print(\" > images:\", testAllX.shape)\n",
    "print(\" > labels:\", testAllY.shape)\n",
    "print(\"\\t'Normal' test set:\")\n",
    "print(\"\\t  > images:\", testNormalX.shape)\n",
    "print(\"\\t  > labels:\", testNormalY.shape)\n",
    "print(\"\\t'Anomaly 1' test set:\")\n",
    "print(\"\\t  > images:\", testAnomaly1X.shape)\n",
    "print(\"\\t  > labels:\", testAnomaly1Y.shape)\n",
    "print(\"\\t'Anomaly 2' test set:\")\n",
    "print(\"\\t  > images:\", testAnomaly2X.shape)\n",
    "print(\"\\t  > labels:\", testAnomaly2Y.shape)"
   ]
  },
  {
   "cell_type": "code",
   "execution_count": 18,
   "metadata": {},
   "outputs": [
    {
     "name": "stdout",
     "output_type": "stream",
     "text": [
      "Procentage of training samples: 76.62 %\n",
      "Procentage of validation samples: 4.68 %\n",
      "Procentage of (only normal) testing samples: 18.70 %\n"
     ]
    }
   ],
   "source": [
    "# compute procentage between training, validation and test data sets (only normal data):\n",
    "print(f\"Procentage of training samples: {(len(trainX) / (len(trainX) + len(valX) + len(testNormalX))) * 100:.2f} %\")\n",
    "print(f\"Procentage of validation samples: {(len(valX) / (len(trainX) + len(valX) + len(testNormalX))) * 100:.2f} %\")\n",
    "print(f\"Procentage of (only normal) testing samples: {(len(testNormalX) / (len(trainX) + len(valX) + len(testNormalX))) * 100:.2f} %\")"
   ]
  },
  {
   "cell_type": "code",
   "execution_count": 19,
   "metadata": {},
   "outputs": [
    {
     "name": "stdout",
     "output_type": "stream",
     "text": [
      "Procentage of training samples: 58.14 %\n",
      "Procentage of validation samples: 3.55 %\n",
      "Procentage of (total) testing samples: 38.31 %\n"
     ]
    }
   ],
   "source": [
    "# compute procentage between training, validation and test data sets:\n",
    "print(f\"Procentage of training samples: {(len(trainX) / (len(trainX) + len(valX) + len(testAllX))) * 100:.2f} %\")\n",
    "print(f\"Procentage of validation samples: {(len(valX) / (len(trainX) + len(valX) + len(testAllX))) * 100:.2f} %\")\n",
    "print(f\"Procentage of (total) testing samples: {(len(testAllX) / (len(trainX) + len(valX) + len(testAllX))) * 100:.2f} %\")"
   ]
  },
  {
   "cell_type": "markdown",
   "metadata": {},
   "source": [
    "### Check for (un)balanced data\n",
    "\n"
   ]
  },
  {
   "cell_type": "code",
   "execution_count": 20,
   "metadata": {},
   "outputs": [
    {
     "data": {
      "image/png": "[encoded data removed]",
      "text/plain": [
       "<Figure size 1152x288 with 3 Axes>"
      ]
     },
     "metadata": {
      "needs_background": "light"
     },
     "output_type": "display_data"
    }
   ],
   "source": [
    "labels = ['0: normal', '1: metal', '2: hollow']\n",
    "\n",
    "fig, ax = plt.subplots(nrows=1, ncols=3, figsize=(16,4))\n",
    "ax[0].hist(trainY, align=\"left\"); ax[0].set_title('train', fontsize=18); ax[0].set_xticks([0,1,2]); ax[0].set_xticklabels(labels); ax[0].tick_params(axis='both', which='major', labelsize=16); ax[0].set_xlim(-0.5, 2.5);\n",
    "ax[1].hist(valY, align=\"left\"); ax[1].set_title('validation', fontsize=18); ax[1].set_xticks([0,1,2]); ax[1].set_xticklabels(labels); ax[1].tick_params(axis='both', which='major', labelsize=16); ax[1].set_xlim(-0.5, 2.5);\n",
    "ax[2].hist(testAllY, align=\"left\"); ax[2].set_title('test', fontsize=18); ax[2].set_xticks([0,1,2]); ax[2].set_xticklabels(labels); ax[2].tick_params(axis='both', which='major', labelsize=16); ax[2].set_xlim(-0.5, 2.5);\n",
    "\n",
    "ax[0].set_ylabel(\"Number of images\", fontsize=18)\n",
    "ax[1].set_xlabel(\"Class Labels\", fontsize=20)\n",
    "plt.show()"
   ]
  },
  {
   "cell_type": "code",
   "execution_count": 21,
   "metadata": {},
   "outputs": [
    {
     "name": "stdout",
     "output_type": "stream",
     "text": [
      "Procentage of normal test samples: 37.04 %\n",
      "Procentage of total anomaly test samples: 62.96 %\n"
     ]
    }
   ],
   "source": [
    "# compute procentage of normal test images vs total anomaly test images:\n",
    "print(f\"Procentage of normal test samples: {(len(testNormalX) / (len(testNormalX) + (len(testAnomaly1X) + len(testAnomaly2X)))) * 100:.2f} %\")\n",
    "print(f\"Procentage of total anomaly test samples: {((len(testAnomaly1X) + len(testAnomaly2X)) / (len(testNormalX) + (len(testAnomaly1X) + len(testAnomaly2X)))) * 100:.2f} %\")"
   ]
  },
  {
   "cell_type": "markdown",
   "metadata": {},
   "source": [
    "## Feature Scaling\n",
    "\n",
    "Only normalization has been used."
   ]
  },
  {
   "cell_type": "code",
   "execution_count": 22,
   "metadata": {},
   "outputs": [],
   "source": [
    "# Data configuration\n",
    "img_width, img_height = trainX.shape[1], trainX.shape[2]      # input image dimensions\n",
    "num_channels = 1                                              # gray-channel"
   ]
  },
  {
   "cell_type": "markdown",
   "metadata": {},
   "source": [
    "### Normalization\n",
    "\n",
    "Neural Networks learns faster with normalized data."
   ]
  },
  {
   "cell_type": "code",
   "execution_count": 23,
   "metadata": {},
   "outputs": [],
   "source": [
    "# Normalize to be in  the [0, 1] range:\n",
    "trainX = trainX.astype('float32') / 255.\n",
    "valX = valX.astype('float32') / 255.\n",
    "testAllX = testAllX.astype('float32') / 255.\n",
    "\n",
    "# reshape data to keras inputs --> (n_samples, img_rows, img_cols, n_channels):\n",
    "trainX = trainX.reshape(trainX.shape[0], img_height, img_width, num_channels)\n",
    "valX = valX.reshape(valX.shape[0], img_height, img_width, num_channels)\n",
    "testAllX = testAllX.reshape(testAllX.shape[0], img_height, img_width, num_channels)"
   ]
  },
  {
   "cell_type": "markdown",
   "metadata": {},
   "source": [
    "# Train the AE"
   ]
  },
  {
   "cell_type": "markdown",
   "metadata": {},
   "source": [
    "## Architecture and Hyperparameters"
   ]
  },
  {
   "cell_type": "code",
   "execution_count": 24,
   "metadata": {},
   "outputs": [],
   "source": [
    "# import architecture of VAE model and its hyperparameters:\n",
    "from J2_AE_model import *"
   ]
  },
  {
   "cell_type": "markdown",
   "metadata": {},
   "source": [
    "### *Total AE Model*"
   ]
  },
  {
   "cell_type": "code",
   "execution_count": 25,
   "metadata": {},
   "outputs": [
    {
     "name": "stdout",
     "output_type": "stream",
     "text": [
      "Model: \"ae\"\n",
      "_________________________________________________________________\n",
      "Layer (type)                 Output Shape              Param #   \n",
      "=================================================================\n",
      "encoder_input (InputLayer)   [(None, 128, 128, 1)]     0         \n",
      "_________________________________________________________________\n",
      "conv2d (Conv2D)              (None, 64, 64, 32)        160       \n",
      "_________________________________________________________________\n",
      "batch_normalization (BatchNo (None, 64, 64, 32)        128       \n",
      "_________________________________________________________________\n",
      "leaky_re_lu (LeakyReLU)      (None, 64, 64, 32)        0         \n",
      "_________________________________________________________________\n",
      "conv2d_1 (Conv2D)            (None, 32, 32, 32)        4128      \n",
      "_________________________________________________________________\n",
      "batch_normalization_1 (Batch (None, 32, 32, 32)        128       \n",
      "_________________________________________________________________\n",
      "leaky_re_lu_1 (LeakyReLU)    (None, 32, 32, 32)        0         \n",
      "_________________________________________________________________\n",
      "conv2d_2 (Conv2D)            (None, 16, 16, 32)        4128      \n",
      "_________________________________________________________________\n",
      "batch_normalization_2 (Batch (None, 16, 16, 32)        128       \n",
      "_________________________________________________________________\n",
      "leaky_re_lu_2 (LeakyReLU)    (None, 16, 16, 32)        0         \n",
      "_________________________________________________________________\n",
      "conv2d_3 (Conv2D)            (None, 8, 8, 32)          4128      \n",
      "_________________________________________________________________\n",
      "batch_normalization_3 (Batch (None, 8, 8, 32)          128       \n",
      "_________________________________________________________________\n",
      "leaky_re_lu_3 (LeakyReLU)    (None, 8, 8, 32)          0         \n",
      "_________________________________________________________________\n",
      "conv2d_4 (Conv2D)            (None, 4, 4, 32)          4128      \n",
      "_________________________________________________________________\n",
      "batch_normalization_4 (Batch (None, 4, 4, 32)          128       \n",
      "_________________________________________________________________\n",
      "leaky_re_lu_4 (LeakyReLU)    (None, 4, 4, 32)          0         \n",
      "_________________________________________________________________\n",
      "flatten (Flatten)            (None, 512)               0         \n",
      "_________________________________________________________________\n",
      "latent (Dense)               (None, 2)                 1026      \n",
      "_________________________________________________________________\n",
      "leaky_re_lu_5 (LeakyReLU)    (None, 2)                 0         \n",
      "_________________________________________________________________\n",
      "dense (Dense)                (None, 512)               1536      \n",
      "_________________________________________________________________\n",
      "batch_normalization_5 (Batch (None, 512)               2048      \n",
      "_________________________________________________________________\n",
      "re_lu (ReLU)                 (None, 512)               0         \n",
      "_________________________________________________________________\n",
      "reshape (Reshape)            (None, 4, 4, 32)          0         \n",
      "_________________________________________________________________\n",
      "conv2d_transpose (Conv2DTran (None, 8, 8, 32)          4128      \n",
      "_________________________________________________________________\n",
      "batch_normalization_6 (Batch (None, 8, 8, 32)          128       \n",
      "_________________________________________________________________\n",
      "re_lu_1 (ReLU)               (None, 8, 8, 32)          0         \n",
      "_________________________________________________________________\n",
      "conv2d_transpose_1 (Conv2DTr (None, 16, 16, 32)        4128      \n",
      "_________________________________________________________________\n",
      "batch_normalization_7 (Batch (None, 16, 16, 32)        128       \n",
      "_________________________________________________________________\n",
      "re_lu_2 (ReLU)               (None, 16, 16, 32)        0         \n",
      "_________________________________________________________________\n",
      "conv2d_transpose_2 (Conv2DTr (None, 32, 32, 32)        4128      \n",
      "_________________________________________________________________\n",
      "batch_normalization_8 (Batch (None, 32, 32, 32)        128       \n",
      "_________________________________________________________________\n",
      "re_lu_3 (ReLU)               (None, 32, 32, 32)        0         \n",
      "_________________________________________________________________\n",
      "conv2d_transpose_3 (Conv2DTr (None, 64, 64, 32)        4128      \n",
      "_________________________________________________________________\n",
      "batch_normalization_9 (Batch (None, 64, 64, 32)        128       \n",
      "_________________________________________________________________\n",
      "re_lu_4 (ReLU)               (None, 64, 64, 32)        0         \n",
      "_________________________________________________________________\n",
      "conv2d_transpose_4 (Conv2DTr (None, 128, 128, 32)      4128      \n",
      "_________________________________________________________________\n",
      "batch_normalization_10 (Batc (None, 128, 128, 32)      128       \n",
      "_________________________________________________________________\n",
      "re_lu_5 (ReLU)               (None, 128, 128, 32)      0         \n",
      "_________________________________________________________________\n",
      "decoder_output (Conv2DTransp (None, 128, 128, 1)       129       \n",
      "=================================================================\n",
      "Total params: 43,331\n",
      "Trainable params: 41,667\n",
      "Non-trainable params: 1,664\n",
      "_________________________________________________________________\n"
     ]
    }
   ],
   "source": [
    "ae.summary()"
   ]
  },
  {
   "cell_type": "markdown",
   "metadata": {},
   "source": [
    "## Compile and train model\n"
   ]
  },
  {
   "cell_type": "code",
   "execution_count": 26,
   "metadata": {},
   "outputs": [],
   "source": [
    "\"\"\" Hyperparameters \"\"\"\n",
    "batch_size  = 256\n",
    "epochs      = 1000"
   ]
  },
  {
   "cell_type": "markdown",
   "metadata": {},
   "source": [
    "### Keras Callbacks"
   ]
  },
  {
   "cell_type": "code",
   "execution_count": 27,
   "metadata": {},
   "outputs": [],
   "source": [
    "\"\"\"\n",
    "Checkpoint callback options: save model at 1'st epoch (inital model)\n",
    "\n",
    "https://stackoverflow.com/questions/54323960/save-keras-model-at-specific-epochs\n",
    "\"\"\"\n",
    "\n",
    "class CustomSaver(keras.callbacks.Callback):\n",
    "    def on_epoch_begin(self, epoch, logs=None):\n",
    "        if epoch == 1:\n",
    "            self.model.save_weights(f\"{SAVE_FOLDER}/cp-0001.h5\")\n",
    "            \n",
    "# create and use callback:\n",
    "initial_checkpoint = CustomSaver()"
   ]
  },
  {
   "cell_type": "code",
   "execution_count": 28,
   "metadata": {},
   "outputs": [
    {
     "name": "stdout",
     "output_type": "stream",
     "text": [
      "WARNING:tensorflow:`period` argument is deprecated. Please use `save_freq` to specify the frequency in number of batches seen.\n"
     ]
    }
   ],
   "source": [
    "\"\"\"\n",
    "Checkpoint callback options: save model at every k'te epochs\n",
    "\"\"\"\n",
    "# Include the epoch in the file name (uses `str.format`):\n",
    "checkpoint_path = \"saved_models/latent2/cp-{epoch:04d}.h5\"\n",
    "\n",
    "# Create a callback that saves the model's weights every k'te epochs:\n",
    "checkpoint = ModelCheckpoint(filepath = checkpoint_path,\n",
    "                             monitor='loss',           # name of the metrics to monitor\n",
    "                             verbose=1, \n",
    "                             #save_best_only=False,     # if False, the best model will not be overridden.\n",
    "                             save_weights_only=True,   # if True, only the weights of the models will be saved.\n",
    "                                                        # if False, the whole models will be saved.\n",
    "                             #mode='auto', \n",
    "                             period=200                  # save after every k'te epochs\n",
    "                            )\n",
    "\n",
    "# Save the weights using the `checkpoint_path` format\n",
    "ae.save_weights(checkpoint_path.format(epoch=0))          # save for zero epoch (inital)"
   ]
  },
  {
   "cell_type": "code",
   "execution_count": 29,
   "metadata": {},
   "outputs": [],
   "source": [
    "\"\"\"\n",
    "Checkpoint callback options: Early stopping\n",
    "https://www.tensorflow.org/guide/keras/custom_callback\n",
    "\"\"\"\n",
    "\n",
    "class EarlyStoppingAtMinLoss(keras.callbacks.Callback):\n",
    "    \"\"\"Stop training when the loss is at its min, i.e. the loss stops decreasing.\n",
    "\n",
    "  Arguments:\n",
    "      patience: Number of epochs to wait after min has been hit. After this\n",
    "      number of no improvement, training stops.\n",
    "  \"\"\"\n",
    "\n",
    "    def __init__(self, patience=50):\n",
    "        super(EarlyStoppingAtMinLoss, self).__init__()\n",
    "        self.patience = patience\n",
    "        # best_weights to store the weights at which the minimum loss occurs.\n",
    "        self.best_weights = None\n",
    "\n",
    "    def on_train_begin(self, logs=None):\n",
    "        # The number of epoch it has waited when loss is no longer minimum.\n",
    "        self.wait = 0\n",
    "        # The epoch the training stops at.\n",
    "        self.stopped_epoch = 0\n",
    "        # Initialize the best as infinity.\n",
    "        self.best = np.Inf\n",
    "\n",
    "    def on_epoch_end(self, epoch, logs=None):\n",
    "        current = logs.get(\"loss\")\n",
    "        if np.less(current, self.best):\n",
    "            self.best = current\n",
    "            self.wait = 0\n",
    "            # Record the best weights if current results is better (less).\n",
    "            self.best_weights = self.model.get_weights()\n",
    "        else:\n",
    "            self.wait += 1\n",
    "            if self.wait >= self.patience:\n",
    "                self.stopped_epoch = epoch\n",
    "                self.model.stop_training = True\n",
    "                print(\"Restoring model weights from the end of the best epoch.\")\n",
    "                self.model.set_weights(self.best_weights)\n",
    "\n",
    "    def on_train_end(self, logs=None):\n",
    "        if self.stopped_epoch > 0:\n",
    "            print(\"Epoch %05d: early stopping\" % (self.stopped_epoch + 1))"
   ]
  },
  {
   "cell_type": "markdown",
   "metadata": {},
   "source": [
    "### Compile and train model"
   ]
  },
  {
   "cell_type": "code",
   "execution_count": 30,
   "metadata": {},
   "outputs": [],
   "source": [
    "\"\"\" Create and Compile Model\"\"\"\n",
    "# import architecture of VAE model and its hyperparameters. learning rate choosen from graph above.\n",
    "ae = create_model()"
   ]
  },
  {
   "cell_type": "code",
   "execution_count": 31,
   "metadata": {},
   "outputs": [
    {
     "name": "stdout",
     "output_type": "stream",
     "text": [
      "Epoch 1/1000\n",
      "7/7 [==============================] - 1s 153ms/step - loss: 0.1829 - val_loss: 0.1420\n",
      "Epoch 2/1000\n",
      "7/7 [==============================] - 1s 72ms/step - loss: 0.1292 - val_loss: 0.1380\n",
      "Epoch 3/1000\n",
      "7/7 [==============================] - 1s 73ms/step - loss: 0.1001 - val_loss: 0.1333\n",
      "Epoch 4/1000\n",
      "7/7 [==============================] - 1s 72ms/step - loss: 0.0839 - val_loss: 0.1283\n",
      "Epoch 5/1000\n",
      "7/7 [==============================] - 1s 72ms/step - loss: 0.0696 - val_loss: 0.1232\n",
      "Epoch 6/1000\n",
      "7/7 [==============================] - 0s 71ms/step - loss: 0.0495 - val_loss: 0.1179\n",
      "Epoch 7/1000\n",
      "7/7 [==============================] - 1s 72ms/step - loss: 0.0323 - val_loss: 0.1124\n",
      "Epoch 8/1000\n",
      "7/7 [==============================] - 1s 71ms/step - loss: 0.0238 - val_loss: 0.1068\n",
      "Epoch 9/1000\n",
      "7/7 [==============================] - 0s 71ms/step - loss: 0.0181 - val_loss: 0.1016\n",
      "Epoch 10/1000\n",
      "7/7 [==============================] - 1s 71ms/step - loss: 0.0145 - val_loss: 0.0969\n",
      "Epoch 11/1000\n",
      "7/7 [==============================] - 1s 71ms/step - loss: 0.0120 - val_loss: 0.0932\n",
      "Epoch 12/1000\n",
      "7/7 [==============================] - 1s 72ms/step - loss: 0.0104 - val_loss: 0.0906\n",
      "Epoch 13/1000\n",
      "7/7 [==============================] - 0s 71ms/step - loss: 0.0096 - val_loss: 0.0892\n",
      "Epoch 14/1000\n",
      "7/7 [==============================] - 0s 70ms/step - loss: 0.0093 - val_loss: 0.0889\n",
      "Epoch 15/1000\n",
      "7/7 [==============================] - 1s 72ms/step - loss: 0.0083 - val_loss: 0.0894\n",
      "Epoch 16/1000\n",
      "7/7 [==============================] - 1s 72ms/step - loss: 0.0077 - val_loss: 0.0907\n",
      "Epoch 17/1000\n",
      "7/7 [==============================] - 1s 72ms/step - loss: 0.0072 - val_loss: 0.0927\n",
      "Epoch 18/1000\n",
      "7/7 [==============================] - 1s 72ms/step - loss: 0.0071 - val_loss: 0.0950\n",
      "Epoch 19/1000\n",
      "7/7 [==============================] - 0s 71ms/step - loss: 0.0066 - val_loss: 0.0975\n",
      "Epoch 20/1000\n",
      "7/7 [==============================] - 1s 72ms/step - loss: 0.0063 - val_loss: 0.1001\n",
      "Epoch 21/1000\n",
      "7/7 [==============================] - 1s 72ms/step - loss: 0.0063 - val_loss: 0.1028\n",
      "Epoch 22/1000\n",
      "7/7 [==============================] - 0s 71ms/step - loss: 0.0061 - val_loss: 0.1053\n",
      "Epoch 23/1000\n",
      "7/7 [==============================] - 1s 72ms/step - loss: 0.0060 - val_loss: 0.1079\n",
      "Epoch 24/1000\n",
      "7/7 [==============================] - 0s 71ms/step - loss: 0.0058 - val_loss: 0.1100\n",
      "Epoch 25/1000\n",
      "7/7 [==============================] - 0s 71ms/step - loss: 0.0058 - val_loss: 0.1118\n",
      "Epoch 26/1000\n",
      "7/7 [==============================] - 0s 71ms/step - loss: 0.0056 - val_loss: 0.1131\n",
      "Epoch 27/1000\n",
      "7/7 [==============================] - 0s 69ms/step - loss: 0.0056 - val_loss: 0.1143\n",
      "Epoch 28/1000\n",
      "7/7 [==============================] - 0s 71ms/step - loss: 0.0054 - val_loss: 0.1148\n",
      "Epoch 29/1000\n",
      "7/7 [==============================] - 1s 72ms/step - loss: 0.0054 - val_loss: 0.1153\n",
      "Epoch 30/1000\n",
      "7/7 [==============================] - 1s 71ms/step - loss: 0.0053 - val_loss: 0.1149\n",
      "Epoch 31/1000\n",
      "7/7 [==============================] - 0s 70ms/step - loss: 0.0054 - val_loss: 0.1145\n",
      "Epoch 32/1000\n",
      "7/7 [==============================] - 0s 69ms/step - loss: 0.0054 - val_loss: 0.1143\n",
      "Epoch 33/1000\n",
      "7/7 [==============================] - 0s 70ms/step - loss: 0.0053 - val_loss: 0.1117\n",
      "Epoch 34/1000\n",
      "7/7 [==============================] - 1s 72ms/step - loss: 0.0053 - val_loss: 0.1104\n",
      "Epoch 35/1000\n",
      "7/7 [==============================] - 0s 70ms/step - loss: 0.0053 - val_loss: 0.1079\n",
      "Epoch 36/1000\n",
      "7/7 [==============================] - 1s 72ms/step - loss: 0.0051 - val_loss: 0.1052\n",
      "Epoch 37/1000\n",
      "7/7 [==============================] - 0s 71ms/step - loss: 0.0051 - val_loss: 0.1018\n",
      "Epoch 38/1000\n",
      "7/7 [==============================] - 0s 70ms/step - loss: 0.0051 - val_loss: 0.0985\n",
      "Epoch 39/1000\n",
      "7/7 [==============================] - 0s 71ms/step - loss: 0.0051 - val_loss: 0.0960\n",
      "Epoch 40/1000\n",
      "7/7 [==============================] - 0s 71ms/step - loss: 0.0050 - val_loss: 0.0923\n",
      "Epoch 41/1000\n",
      "7/7 [==============================] - 0s 71ms/step - loss: 0.0050 - val_loss: 0.0882\n",
      "Epoch 42/1000\n",
      "7/7 [==============================] - 0s 71ms/step - loss: 0.0049 - val_loss: 0.0847\n",
      "Epoch 43/1000\n",
      "7/7 [==============================] - 0s 69ms/step - loss: 0.0049 - val_loss: 0.0784\n",
      "Epoch 44/1000\n",
      "7/7 [==============================] - 1s 72ms/step - loss: 0.0049 - val_loss: 0.0761\n",
      "Epoch 45/1000\n",
      "7/7 [==============================] - 0s 70ms/step - loss: 0.0049 - val_loss: 0.0725\n",
      "Epoch 46/1000\n",
      "7/7 [==============================] - 0s 69ms/step - loss: 0.0049 - val_loss: 0.0699\n",
      "Epoch 47/1000\n",
      "7/7 [==============================] - 0s 71ms/step - loss: 0.0048 - val_loss: 0.0652\n",
      "Epoch 48/1000\n",
      "7/7 [==============================] - 1s 71ms/step - loss: 0.0047 - val_loss: 0.0624\n",
      "Epoch 49/1000\n",
      "7/7 [==============================] - 0s 71ms/step - loss: 0.0047 - val_loss: 0.0598\n",
      "Epoch 50/1000\n",
      "7/7 [==============================] - 0s 70ms/step - loss: 0.0048 - val_loss: 0.0549\n",
      "Epoch 51/1000\n",
      "7/7 [==============================] - 0s 70ms/step - loss: 0.0047 - val_loss: 0.0523\n",
      "Epoch 52/1000\n",
      "7/7 [==============================] - 1s 71ms/step - loss: 0.0047 - val_loss: 0.0497\n",
      "Epoch 53/1000\n",
      "7/7 [==============================] - 0s 71ms/step - loss: 0.0047 - val_loss: 0.0478\n",
      "Epoch 54/1000\n",
      "7/7 [==============================] - 1s 72ms/step - loss: 0.0046 - val_loss: 0.0453\n",
      "Epoch 55/1000\n",
      "7/7 [==============================] - 0s 69ms/step - loss: 0.0046 - val_loss: 0.0436\n",
      "Epoch 56/1000\n",
      "7/7 [==============================] - 0s 70ms/step - loss: 0.0046 - val_loss: 0.0414\n",
      "Epoch 57/1000\n",
      "7/7 [==============================] - 0s 69ms/step - loss: 0.0046 - val_loss: 0.0389\n",
      "Epoch 58/1000\n",
      "7/7 [==============================] - 0s 70ms/step - loss: 0.0046 - val_loss: 0.0361\n",
      "Epoch 59/1000\n",
      "7/7 [==============================] - 0s 71ms/step - loss: 0.0046 - val_loss: 0.0347\n",
      "Epoch 60/1000\n",
      "7/7 [==============================] - 0s 69ms/step - loss: 0.0046 - val_loss: 0.0329\n",
      "Epoch 61/1000\n",
      "7/7 [==============================] - 1s 72ms/step - loss: 0.0046 - val_loss: 0.0312\n",
      "Epoch 62/1000\n",
      "7/7 [==============================] - 0s 69ms/step - loss: 0.0046 - val_loss: 0.0309\n",
      "Epoch 63/1000\n",
      "7/7 [==============================] - 0s 69ms/step - loss: 0.0046 - val_loss: 0.0301\n",
      "Epoch 64/1000\n",
      "7/7 [==============================] - 0s 70ms/step - loss: 0.0046 - val_loss: 0.0270\n",
      "Epoch 65/1000\n",
      "7/7 [==============================] - 0s 71ms/step - loss: 0.0045 - val_loss: 0.0241\n",
      "Epoch 66/1000\n",
      "7/7 [==============================] - 0s 70ms/step - loss: 0.0045 - val_loss: 0.0246\n",
      "Epoch 67/1000\n",
      "7/7 [==============================] - 0s 71ms/step - loss: 0.0044 - val_loss: 0.0226\n",
      "Epoch 68/1000\n",
      "7/7 [==============================] - 0s 71ms/step - loss: 0.0044 - val_loss: 0.0204\n",
      "Epoch 69/1000\n",
      "7/7 [==============================] - 1s 72ms/step - loss: 0.0044 - val_loss: 0.0199\n",
      "Epoch 70/1000\n",
      "7/7 [==============================] - 0s 69ms/step - loss: 0.0044 - val_loss: 0.0188\n",
      "Epoch 71/1000\n",
      "7/7 [==============================] - 0s 70ms/step - loss: 0.0044 - val_loss: 0.0173\n",
      "Epoch 72/1000\n",
      "7/7 [==============================] - 1s 71ms/step - loss: 0.0044 - val_loss: 0.0168\n",
      "Epoch 73/1000\n",
      "7/7 [==============================] - 0s 71ms/step - loss: 0.0043 - val_loss: 0.0156\n",
      "Epoch 74/1000\n",
      "7/7 [==============================] - 0s 70ms/step - loss: 0.0043 - val_loss: 0.0151\n",
      "Epoch 75/1000\n",
      "7/7 [==============================] - 0s 69ms/step - loss: 0.0043 - val_loss: 0.0146\n",
      "Epoch 76/1000\n",
      "7/7 [==============================] - 0s 69ms/step - loss: 0.0043 - val_loss: 0.0147\n",
      "Epoch 77/1000\n",
      "7/7 [==============================] - 0s 69ms/step - loss: 0.0043 - val_loss: 0.0129\n",
      "Epoch 78/1000\n",
      "7/7 [==============================] - 0s 69ms/step - loss: 0.0044 - val_loss: 0.0128\n",
      "Epoch 79/1000\n",
      "7/7 [==============================] - 0s 69ms/step - loss: 0.0043 - val_loss: 0.0114\n",
      "Epoch 80/1000\n",
      "7/7 [==============================] - 0s 69ms/step - loss: 0.0043 - val_loss: 0.0119\n",
      "Epoch 81/1000\n",
      "7/7 [==============================] - 0s 70ms/step - loss: 0.0043 - val_loss: 0.0111\n",
      "Epoch 82/1000\n",
      "7/7 [==============================] - 0s 71ms/step - loss: 0.0043 - val_loss: 0.0108\n",
      "Epoch 83/1000\n",
      "7/7 [==============================] - 0s 69ms/step - loss: 0.0043 - val_loss: 0.0097\n",
      "Epoch 84/1000\n",
      "7/7 [==============================] - 0s 71ms/step - loss: 0.0042 - val_loss: 0.0093\n",
      "Epoch 85/1000\n",
      "7/7 [==============================] - 0s 71ms/step - loss: 0.0042 - val_loss: 0.0093\n",
      "Epoch 86/1000\n",
      "7/7 [==============================] - 0s 71ms/step - loss: 0.0042 - val_loss: 0.0091\n",
      "Epoch 87/1000\n",
      "7/7 [==============================] - 0s 71ms/step - loss: 0.0042 - val_loss: 0.0086\n",
      "Epoch 88/1000\n",
      "7/7 [==============================] - 0s 71ms/step - loss: 0.0042 - val_loss: 0.0081\n",
      "Epoch 89/1000\n",
      "7/7 [==============================] - 0s 69ms/step - loss: 0.0042 - val_loss: 0.0080\n",
      "Epoch 90/1000\n",
      "7/7 [==============================] - 0s 70ms/step - loss: 0.0043 - val_loss: 0.0078\n",
      "Epoch 91/1000\n",
      "7/7 [==============================] - 0s 70ms/step - loss: 0.0042 - val_loss: 0.0073\n",
      "Epoch 92/1000\n",
      "7/7 [==============================] - 0s 69ms/step - loss: 0.0042 - val_loss: 0.0083\n",
      "Epoch 93/1000\n",
      "7/7 [==============================] - 0s 71ms/step - loss: 0.0041 - val_loss: 0.0082\n",
      "Epoch 94/1000\n",
      "7/7 [==============================] - 0s 69ms/step - loss: 0.0042 - val_loss: 0.0070\n",
      "Epoch 95/1000\n",
      "7/7 [==============================] - 1s 72ms/step - loss: 0.0041 - val_loss: 0.0068\n",
      "Epoch 96/1000\n",
      "7/7 [==============================] - 0s 69ms/step - loss: 0.0042 - val_loss: 0.0067\n",
      "Epoch 97/1000\n",
      "7/7 [==============================] - 0s 71ms/step - loss: 0.0041 - val_loss: 0.0062\n",
      "Epoch 98/1000\n",
      "7/7 [==============================] - 0s 69ms/step - loss: 0.0041 - val_loss: 0.0065\n",
      "Epoch 99/1000\n",
      "7/7 [==============================] - 0s 69ms/step - loss: 0.0042 - val_loss: 0.0064\n",
      "Epoch 100/1000\n",
      "7/7 [==============================] - 0s 69ms/step - loss: 0.0041 - val_loss: 0.0059\n",
      "Epoch 101/1000\n",
      "7/7 [==============================] - 0s 69ms/step - loss: 0.0042 - val_loss: 0.0059\n",
      "Epoch 102/1000\n",
      "7/7 [==============================] - 1s 71ms/step - loss: 0.0041 - val_loss: 0.0056\n",
      "Epoch 103/1000\n",
      "7/7 [==============================] - 0s 71ms/step - loss: 0.0040 - val_loss: 0.0052\n",
      "Epoch 104/1000\n",
      "7/7 [==============================] - 0s 69ms/step - loss: 0.0041 - val_loss: 0.0055\n",
      "Epoch 105/1000\n",
      "7/7 [==============================] - 0s 70ms/step - loss: 0.0041 - val_loss: 0.0053\n",
      "Epoch 106/1000\n",
      "7/7 [==============================] - 0s 70ms/step - loss: 0.0041 - val_loss: 0.0053\n",
      "Epoch 107/1000\n",
      "7/7 [==============================] - 0s 70ms/step - loss: 0.0041 - val_loss: 0.0052\n",
      "Epoch 108/1000\n",
      "7/7 [==============================] - 0s 70ms/step - loss: 0.0042 - val_loss: 0.0052\n",
      "Epoch 109/1000\n",
      "7/7 [==============================] - 0s 69ms/step - loss: 0.0041 - val_loss: 0.0051\n",
      "Epoch 110/1000\n",
      "7/7 [==============================] - 0s 69ms/step - loss: 0.0041 - val_loss: 0.0052\n",
      "Epoch 111/1000\n",
      "7/7 [==============================] - 0s 71ms/step - loss: 0.0040 - val_loss: 0.0051\n",
      "Epoch 112/1000\n",
      "7/7 [==============================] - 0s 69ms/step - loss: 0.0041 - val_loss: 0.0051\n",
      "Epoch 113/1000\n",
      "7/7 [==============================] - 0s 70ms/step - loss: 0.0041 - val_loss: 0.0051\n",
      "Epoch 114/1000\n",
      "7/7 [==============================] - 1s 72ms/step - loss: 0.0040 - val_loss: 0.0050\n",
      "Epoch 115/1000\n",
      "7/7 [==============================] - 0s 71ms/step - loss: 0.0040 - val_loss: 0.0053\n",
      "Epoch 116/1000\n",
      "7/7 [==============================] - 0s 69ms/step - loss: 0.0040 - val_loss: 0.0050\n",
      "Epoch 117/1000\n",
      "7/7 [==============================] - 0s 69ms/step - loss: 0.0040 - val_loss: 0.0049\n",
      "Epoch 118/1000\n",
      "7/7 [==============================] - 1s 71ms/step - loss: 0.0040 - val_loss: 0.0047\n",
      "Epoch 119/1000\n",
      "7/7 [==============================] - 0s 69ms/step - loss: 0.0040 - val_loss: 0.0049\n",
      "Epoch 120/1000\n",
      "7/7 [==============================] - 0s 70ms/step - loss: 0.0041 - val_loss: 0.0052\n",
      "Epoch 121/1000\n",
      "7/7 [==============================] - 0s 69ms/step - loss: 0.0041 - val_loss: 0.0047\n",
      "Epoch 122/1000\n",
      "7/7 [==============================] - 0s 69ms/step - loss: 0.0040 - val_loss: 0.0047\n",
      "Epoch 123/1000\n",
      "7/7 [==============================] - 0s 70ms/step - loss: 0.0041 - val_loss: 0.0050\n",
      "Epoch 124/1000\n",
      "7/7 [==============================] - 0s 70ms/step - loss: 0.0041 - val_loss: 0.0049\n",
      "Epoch 125/1000\n",
      "7/7 [==============================] - 0s 69ms/step - loss: 0.0042 - val_loss: 0.0048\n",
      "Epoch 126/1000\n",
      "7/7 [==============================] - 0s 70ms/step - loss: 0.0042 - val_loss: 0.0050\n",
      "Epoch 127/1000\n",
      "7/7 [==============================] - 0s 69ms/step - loss: 0.0041 - val_loss: 0.0047\n",
      "Epoch 128/1000\n",
      "7/7 [==============================] - 0s 70ms/step - loss: 0.0041 - val_loss: 0.0054\n",
      "Epoch 129/1000\n",
      "7/7 [==============================] - 0s 70ms/step - loss: 0.0040 - val_loss: 0.0052\n",
      "Epoch 130/1000\n",
      "7/7 [==============================] - 0s 70ms/step - loss: 0.0040 - val_loss: 0.0049\n",
      "Epoch 131/1000\n",
      "7/7 [==============================] - 0s 69ms/step - loss: 0.0040 - val_loss: 0.0049\n",
      "Epoch 132/1000\n",
      "7/7 [==============================] - 0s 70ms/step - loss: 0.0041 - val_loss: 0.0049\n",
      "Epoch 133/1000\n",
      "7/7 [==============================] - 0s 70ms/step - loss: 0.0041 - val_loss: 0.0052\n",
      "Epoch 134/1000\n",
      "7/7 [==============================] - 0s 71ms/step - loss: 0.0040 - val_loss: 0.0048\n",
      "Epoch 135/1000\n",
      "7/7 [==============================] - 0s 70ms/step - loss: 0.0040 - val_loss: 0.0054\n",
      "Epoch 136/1000\n",
      "7/7 [==============================] - 0s 71ms/step - loss: 0.0041 - val_loss: 0.0046\n",
      "Epoch 137/1000\n",
      "7/7 [==============================] - 0s 70ms/step - loss: 0.0040 - val_loss: 0.0065\n",
      "Epoch 138/1000\n",
      "7/7 [==============================] - 0s 70ms/step - loss: 0.0041 - val_loss: 0.0068\n",
      "Epoch 139/1000\n",
      "7/7 [==============================] - 0s 70ms/step - loss: 0.0040 - val_loss: 0.0044\n",
      "Epoch 140/1000\n",
      "7/7 [==============================] - 0s 70ms/step - loss: 0.0040 - val_loss: 0.0046\n",
      "Epoch 141/1000\n",
      "7/7 [==============================] - 1s 72ms/step - loss: 0.0039 - val_loss: 0.0046\n",
      "Epoch 142/1000\n",
      "7/7 [==============================] - 0s 71ms/step - loss: 0.0039 - val_loss: 0.0047\n",
      "Epoch 143/1000\n",
      "7/7 [==============================] - 0s 69ms/step - loss: 0.0041 - val_loss: 0.0049\n",
      "Epoch 144/1000\n",
      "7/7 [==============================] - 0s 69ms/step - loss: 0.0040 - val_loss: 0.0057\n",
      "Epoch 145/1000\n",
      "7/7 [==============================] - 0s 69ms/step - loss: 0.0040 - val_loss: 0.0051\n",
      "Epoch 146/1000\n",
      "7/7 [==============================] - 0s 69ms/step - loss: 0.0040 - val_loss: 0.0048\n",
      "Epoch 147/1000\n",
      "7/7 [==============================] - 0s 70ms/step - loss: 0.0040 - val_loss: 0.0053\n",
      "Epoch 148/1000\n",
      "7/7 [==============================] - 0s 69ms/step - loss: 0.0040 - val_loss: 0.0054\n",
      "Epoch 149/1000\n",
      "7/7 [==============================] - 0s 69ms/step - loss: 0.0040 - val_loss: 0.0045\n",
      "Epoch 150/1000\n",
      "7/7 [==============================] - 0s 70ms/step - loss: 0.0040 - val_loss: 0.0045\n",
      "Epoch 151/1000\n",
      "7/7 [==============================] - 0s 70ms/step - loss: 0.0040 - val_loss: 0.0043\n",
      "Epoch 152/1000\n",
      "7/7 [==============================] - 0s 70ms/step - loss: 0.0040 - val_loss: 0.0044\n",
      "Epoch 153/1000\n",
      "7/7 [==============================] - 1s 73ms/step - loss: 0.0039 - val_loss: 0.0045\n",
      "Epoch 154/1000\n",
      "7/7 [==============================] - 1s 72ms/step - loss: 0.0039 - val_loss: 0.0046\n",
      "Epoch 155/1000\n",
      "7/7 [==============================] - 0s 70ms/step - loss: 0.0040 - val_loss: 0.0044\n",
      "Epoch 156/1000\n",
      "7/7 [==============================] - 0s 69ms/step - loss: 0.0040 - val_loss: 0.0047\n",
      "Epoch 157/1000\n",
      "7/7 [==============================] - 0s 70ms/step - loss: 0.0040 - val_loss: 0.0045\n",
      "Epoch 158/1000\n",
      "7/7 [==============================] - 0s 69ms/step - loss: 0.0040 - val_loss: 0.0045\n",
      "Epoch 159/1000\n",
      "7/7 [==============================] - 0s 70ms/step - loss: 0.0040 - val_loss: 0.0047\n",
      "Epoch 160/1000\n",
      "7/7 [==============================] - 0s 69ms/step - loss: 0.0039 - val_loss: 0.0044\n",
      "Epoch 161/1000\n",
      "7/7 [==============================] - 0s 70ms/step - loss: 0.0039 - val_loss: 0.0043\n",
      "Epoch 162/1000\n",
      "7/7 [==============================] - 0s 70ms/step - loss: 0.0039 - val_loss: 0.0045\n",
      "Epoch 163/1000\n",
      "7/7 [==============================] - 1s 71ms/step - loss: 0.0039 - val_loss: 0.0043\n",
      "Epoch 164/1000\n",
      "7/7 [==============================] - 0s 70ms/step - loss: 0.0039 - val_loss: 0.0043\n",
      "Epoch 165/1000\n",
      "7/7 [==============================] - 0s 70ms/step - loss: 0.0039 - val_loss: 0.0043\n",
      "Epoch 166/1000\n",
      "7/7 [==============================] - 0s 70ms/step - loss: 0.0039 - val_loss: 0.0043\n",
      "Epoch 167/1000\n",
      "7/7 [==============================] - 0s 70ms/step - loss: 0.0039 - val_loss: 0.0046\n",
      "Epoch 168/1000\n",
      "7/7 [==============================] - 0s 70ms/step - loss: 0.0039 - val_loss: 0.0044\n",
      "Epoch 169/1000\n",
      "7/7 [==============================] - 1s 73ms/step - loss: 0.0038 - val_loss: 0.0053\n",
      "Epoch 170/1000\n",
      "7/7 [==============================] - 0s 71ms/step - loss: 0.0039 - val_loss: 0.0046\n",
      "Epoch 171/1000\n",
      "7/7 [==============================] - 0s 70ms/step - loss: 0.0039 - val_loss: 0.0045\n",
      "Epoch 172/1000\n",
      "7/7 [==============================] - 0s 70ms/step - loss: 0.0039 - val_loss: 0.0048\n",
      "Epoch 173/1000\n",
      "7/7 [==============================] - 0s 69ms/step - loss: 0.0039 - val_loss: 0.0045\n",
      "Epoch 174/1000\n",
      "7/7 [==============================] - 0s 70ms/step - loss: 0.0039 - val_loss: 0.0049\n",
      "Epoch 175/1000\n",
      "7/7 [==============================] - 0s 70ms/step - loss: 0.0038 - val_loss: 0.0043\n",
      "Epoch 176/1000\n",
      "7/7 [==============================] - 0s 70ms/step - loss: 0.0039 - val_loss: 0.0044\n",
      "Epoch 177/1000\n",
      "7/7 [==============================] - 0s 71ms/step - loss: 0.0038 - val_loss: 0.0045\n",
      "Epoch 178/1000\n",
      "7/7 [==============================] - 0s 70ms/step - loss: 0.0038 - val_loss: 0.0044\n",
      "Epoch 179/1000\n",
      "7/7 [==============================] - 1s 72ms/step - loss: 0.0038 - val_loss: 0.0044\n",
      "Epoch 180/1000\n",
      "7/7 [==============================] - 1s 72ms/step - loss: 0.0038 - val_loss: 0.0042\n",
      "Epoch 181/1000\n",
      "7/7 [==============================] - 0s 70ms/step - loss: 0.0038 - val_loss: 0.0042\n",
      "Epoch 182/1000\n",
      "7/7 [==============================] - 0s 71ms/step - loss: 0.0038 - val_loss: 0.0044\n",
      "Epoch 183/1000\n",
      "7/7 [==============================] - 1s 72ms/step - loss: 0.0038 - val_loss: 0.0043\n",
      "Epoch 184/1000\n",
      "7/7 [==============================] - 0s 70ms/step - loss: 0.0038 - val_loss: 0.0045\n",
      "Epoch 185/1000\n",
      "7/7 [==============================] - 0s 70ms/step - loss: 0.0039 - val_loss: 0.0043\n",
      "Epoch 186/1000\n",
      "7/7 [==============================] - 1s 72ms/step - loss: 0.0038 - val_loss: 0.0045\n",
      "Epoch 187/1000\n",
      "7/7 [==============================] - 0s 70ms/step - loss: 0.0039 - val_loss: 0.0042\n",
      "Epoch 188/1000\n",
      "7/7 [==============================] - 0s 70ms/step - loss: 0.0038 - val_loss: 0.0045\n",
      "Epoch 189/1000\n",
      "7/7 [==============================] - 0s 71ms/step - loss: 0.0039 - val_loss: 0.0045\n",
      "Epoch 190/1000\n",
      "7/7 [==============================] - 0s 71ms/step - loss: 0.0039 - val_loss: 0.0043\n",
      "Epoch 191/1000\n",
      "7/7 [==============================] - 0s 69ms/step - loss: 0.0039 - val_loss: 0.0053\n",
      "Epoch 192/1000\n",
      "7/7 [==============================] - 0s 70ms/step - loss: 0.0038 - val_loss: 0.0045\n",
      "Epoch 193/1000\n",
      "7/7 [==============================] - 0s 70ms/step - loss: 0.0038 - val_loss: 0.0042\n",
      "Epoch 194/1000\n",
      "7/7 [==============================] - 0s 70ms/step - loss: 0.0038 - val_loss: 0.0044\n",
      "Epoch 195/1000\n",
      "7/7 [==============================] - 0s 70ms/step - loss: 0.0038 - val_loss: 0.0050\n",
      "Epoch 196/1000\n",
      "7/7 [==============================] - 0s 69ms/step - loss: 0.0038 - val_loss: 0.0045\n",
      "Epoch 197/1000\n",
      "7/7 [==============================] - 0s 69ms/step - loss: 0.0038 - val_loss: 0.0043\n",
      "Epoch 198/1000\n",
      "7/7 [==============================] - 0s 71ms/step - loss: 0.0037 - val_loss: 0.0046\n",
      "Epoch 199/1000\n",
      "7/7 [==============================] - 0s 70ms/step - loss: 0.0038 - val_loss: 0.0042\n",
      "Epoch 200/1000\n",
      "6/7 [========================>.....] - ETA: 0s - loss: 0.0038\n",
      "Epoch 00200: saving model to saved_models/latent2/cp-0200.h5\n",
      "7/7 [==============================] - 1s 99ms/step - loss: 0.0038 - val_loss: 0.0042\n",
      "Epoch 201/1000\n",
      "7/7 [==============================] - 0s 70ms/step - loss: 0.0038 - val_loss: 0.0042\n",
      "Epoch 202/1000\n",
      "7/7 [==============================] - 0s 69ms/step - loss: 0.0038 - val_loss: 0.0043\n",
      "Epoch 203/1000\n",
      "7/7 [==============================] - 0s 69ms/step - loss: 0.0037 - val_loss: 0.0043\n",
      "Epoch 204/1000\n",
      "7/7 [==============================] - 0s 70ms/step - loss: 0.0038 - val_loss: 0.0042\n",
      "Epoch 205/1000\n",
      "7/7 [==============================] - 0s 70ms/step - loss: 0.0038 - val_loss: 0.0046\n",
      "Epoch 206/1000\n",
      "7/7 [==============================] - 0s 69ms/step - loss: 0.0038 - val_loss: 0.0044\n",
      "Epoch 207/1000\n",
      "7/7 [==============================] - 0s 69ms/step - loss: 0.0038 - val_loss: 0.0043\n",
      "Epoch 208/1000\n",
      "7/7 [==============================] - 0s 69ms/step - loss: 0.0038 - val_loss: 0.0044\n",
      "Epoch 209/1000\n",
      "7/7 [==============================] - 0s 70ms/step - loss: 0.0038 - val_loss: 0.0042\n",
      "Epoch 210/1000\n",
      "7/7 [==============================] - 0s 70ms/step - loss: 0.0038 - val_loss: 0.0042\n",
      "Epoch 211/1000\n",
      "7/7 [==============================] - 0s 69ms/step - loss: 0.0038 - val_loss: 0.0044\n",
      "Epoch 212/1000\n",
      "7/7 [==============================] - 0s 70ms/step - loss: 0.0038 - val_loss: 0.0043\n",
      "Epoch 213/1000\n",
      "7/7 [==============================] - 0s 69ms/step - loss: 0.0038 - val_loss: 0.0043\n",
      "Epoch 214/1000\n",
      "7/7 [==============================] - 0s 71ms/step - loss: 0.0037 - val_loss: 0.0043\n",
      "Epoch 215/1000\n",
      "7/7 [==============================] - 0s 70ms/step - loss: 0.0037 - val_loss: 0.0040\n",
      "Epoch 216/1000\n",
      "7/7 [==============================] - 0s 71ms/step - loss: 0.0037 - val_loss: 0.0041\n",
      "Epoch 217/1000\n",
      "7/7 [==============================] - 0s 70ms/step - loss: 0.0038 - val_loss: 0.0041\n",
      "Epoch 218/1000\n",
      "7/7 [==============================] - 0s 70ms/step - loss: 0.0038 - val_loss: 0.0042\n",
      "Epoch 219/1000\n",
      "7/7 [==============================] - 0s 69ms/step - loss: 0.0038 - val_loss: 0.0042\n",
      "Epoch 220/1000\n",
      "7/7 [==============================] - 0s 71ms/step - loss: 0.0039 - val_loss: 0.0044\n",
      "Epoch 221/1000\n",
      "7/7 [==============================] - 0s 69ms/step - loss: 0.0038 - val_loss: 0.0044\n",
      "Epoch 222/1000\n",
      "7/7 [==============================] - 0s 69ms/step - loss: 0.0037 - val_loss: 0.0042\n",
      "Epoch 223/1000\n",
      "7/7 [==============================] - 0s 69ms/step - loss: 0.0037 - val_loss: 0.0042\n",
      "Epoch 224/1000\n",
      "7/7 [==============================] - 0s 69ms/step - loss: 0.0038 - val_loss: 0.0040\n",
      "Epoch 225/1000\n",
      "7/7 [==============================] - 0s 70ms/step - loss: 0.0038 - val_loss: 0.0042\n",
      "Epoch 226/1000\n",
      "7/7 [==============================] - 0s 70ms/step - loss: 0.0038 - val_loss: 0.0043\n",
      "Epoch 227/1000\n",
      "7/7 [==============================] - 0s 69ms/step - loss: 0.0037 - val_loss: 0.0044\n",
      "Epoch 228/1000\n",
      "7/7 [==============================] - 0s 69ms/step - loss: 0.0037 - val_loss: 0.0042\n",
      "Epoch 229/1000\n",
      "7/7 [==============================] - 1s 72ms/step - loss: 0.0037 - val_loss: 0.0041\n",
      "Epoch 230/1000\n",
      "7/7 [==============================] - 0s 69ms/step - loss: 0.0038 - val_loss: 0.0042\n",
      "Epoch 231/1000\n",
      "7/7 [==============================] - 0s 69ms/step - loss: 0.0038 - val_loss: 0.0045\n",
      "Epoch 232/1000\n",
      "7/7 [==============================] - 0s 70ms/step - loss: 0.0037 - val_loss: 0.0044\n",
      "Epoch 233/1000\n",
      "7/7 [==============================] - 0s 70ms/step - loss: 0.0037 - val_loss: 0.0042\n",
      "Epoch 234/1000\n",
      "7/7 [==============================] - 0s 70ms/step - loss: 0.0038 - val_loss: 0.0048\n",
      "Epoch 235/1000\n",
      "7/7 [==============================] - 0s 70ms/step - loss: 0.0037 - val_loss: 0.0042\n",
      "Epoch 236/1000\n",
      "7/7 [==============================] - 0s 70ms/step - loss: 0.0037 - val_loss: 0.0043\n",
      "Epoch 237/1000\n",
      "7/7 [==============================] - 0s 70ms/step - loss: 0.0037 - val_loss: 0.0043\n",
      "Epoch 238/1000\n",
      "7/7 [==============================] - 0s 69ms/step - loss: 0.0038 - val_loss: 0.0042\n",
      "Epoch 239/1000\n",
      "7/7 [==============================] - 0s 69ms/step - loss: 0.0038 - val_loss: 0.0045\n",
      "Epoch 240/1000\n",
      "7/7 [==============================] - 0s 69ms/step - loss: 0.0038 - val_loss: 0.0051\n",
      "Epoch 241/1000\n",
      "7/7 [==============================] - 0s 69ms/step - loss: 0.0038 - val_loss: 0.0042\n",
      "Epoch 242/1000\n",
      "7/7 [==============================] - 0s 69ms/step - loss: 0.0038 - val_loss: 0.0045\n",
      "Epoch 243/1000\n",
      "7/7 [==============================] - 0s 70ms/step - loss: 0.0037 - val_loss: 0.0045\n",
      "Epoch 244/1000\n",
      "7/7 [==============================] - 0s 69ms/step - loss: 0.0037 - val_loss: 0.0042\n",
      "Epoch 245/1000\n",
      "7/7 [==============================] - 0s 70ms/step - loss: 0.0038 - val_loss: 0.0045\n",
      "Epoch 246/1000\n",
      "7/7 [==============================] - 0s 70ms/step - loss: 0.0038 - val_loss: 0.0042\n",
      "Epoch 247/1000\n",
      "7/7 [==============================] - 0s 69ms/step - loss: 0.0038 - val_loss: 0.0045\n",
      "Epoch 248/1000\n",
      "7/7 [==============================] - 0s 70ms/step - loss: 0.0038 - val_loss: 0.0044\n",
      "Epoch 249/1000\n",
      "7/7 [==============================] - 0s 69ms/step - loss: 0.0037 - val_loss: 0.0047\n",
      "Epoch 250/1000\n",
      "7/7 [==============================] - 0s 70ms/step - loss: 0.0037 - val_loss: 0.0042\n",
      "Epoch 251/1000\n",
      "7/7 [==============================] - 0s 70ms/step - loss: 0.0037 - val_loss: 0.0042\n",
      "Epoch 252/1000\n",
      "7/7 [==============================] - 0s 69ms/step - loss: 0.0039 - val_loss: 0.0043\n",
      "Epoch 253/1000\n",
      "7/7 [==============================] - 0s 70ms/step - loss: 0.0039 - val_loss: 0.0042\n",
      "Epoch 254/1000\n",
      "7/7 [==============================] - 0s 70ms/step - loss: 0.0038 - val_loss: 0.0043\n",
      "Epoch 255/1000\n",
      "7/7 [==============================] - 0s 69ms/step - loss: 0.0038 - val_loss: 0.0043\n",
      "Epoch 256/1000\n",
      "7/7 [==============================] - 0s 70ms/step - loss: 0.0038 - val_loss: 0.0040\n",
      "Epoch 257/1000\n",
      "7/7 [==============================] - 0s 69ms/step - loss: 0.0037 - val_loss: 0.0043\n",
      "Epoch 258/1000\n",
      "7/7 [==============================] - 0s 69ms/step - loss: 0.0038 - val_loss: 0.0044\n",
      "Epoch 259/1000\n",
      "7/7 [==============================] - 0s 70ms/step - loss: 0.0037 - val_loss: 0.0043\n",
      "Epoch 260/1000\n",
      "7/7 [==============================] - 0s 70ms/step - loss: 0.0038 - val_loss: 0.0042\n",
      "Epoch 261/1000\n",
      "7/7 [==============================] - 0s 70ms/step - loss: 0.0038 - val_loss: 0.0049\n",
      "Epoch 262/1000\n",
      "7/7 [==============================] - 0s 70ms/step - loss: 0.0037 - val_loss: 0.0043\n",
      "Epoch 263/1000\n",
      "7/7 [==============================] - 0s 70ms/step - loss: 0.0038 - val_loss: 0.0048\n",
      "Epoch 264/1000\n",
      "7/7 [==============================] - 0s 69ms/step - loss: 0.0039 - val_loss: 0.0048\n",
      "Epoch 265/1000\n",
      "7/7 [==============================] - 0s 69ms/step - loss: 0.0039 - val_loss: 0.0045\n",
      "Epoch 266/1000\n",
      "7/7 [==============================] - 0s 70ms/step - loss: 0.0038 - val_loss: 0.0049\n",
      "Epoch 267/1000\n",
      "7/7 [==============================] - 0s 69ms/step - loss: 0.0038 - val_loss: 0.0044\n",
      "Epoch 268/1000\n",
      "7/7 [==============================] - 0s 69ms/step - loss: 0.0038 - val_loss: 0.0044\n",
      "Epoch 269/1000\n",
      "7/7 [==============================] - 0s 70ms/step - loss: 0.0038 - val_loss: 0.0047\n",
      "Epoch 270/1000\n",
      "7/7 [==============================] - 0s 70ms/step - loss: 0.0038 - val_loss: 0.0044\n",
      "Epoch 271/1000\n",
      "7/7 [==============================] - 0s 70ms/step - loss: 0.0038 - val_loss: 0.0045\n",
      "Epoch 272/1000\n",
      "7/7 [==============================] - 0s 70ms/step - loss: 0.0038 - val_loss: 0.0045\n",
      "Epoch 273/1000\n",
      "7/7 [==============================] - 0s 70ms/step - loss: 0.0037 - val_loss: 0.0051\n",
      "Epoch 274/1000\n",
      "7/7 [==============================] - 0s 71ms/step - loss: 0.0037 - val_loss: 0.0054\n",
      "Epoch 275/1000\n",
      "7/7 [==============================] - 0s 70ms/step - loss: 0.0037 - val_loss: 0.0047\n",
      "Epoch 276/1000\n",
      "7/7 [==============================] - 0s 69ms/step - loss: 0.0037 - val_loss: 0.0045\n",
      "Epoch 277/1000\n",
      "7/7 [==============================] - 0s 69ms/step - loss: 0.0037 - val_loss: 0.0044\n",
      "Epoch 278/1000\n",
      "7/7 [==============================] - 0s 70ms/step - loss: 0.0038 - val_loss: 0.0043\n",
      "Epoch 279/1000\n",
      "6/7 [========================>.....] - ETA: 0s - loss: 0.0038Restoring model weights from the end of the best epoch.\n",
      "7/7 [==============================] - 0s 71ms/step - loss: 0.0038 - val_loss: 0.0043\n",
      "Epoch 00279: early stopping\n"
     ]
    }
   ],
   "source": [
    "\"\"\" Train VAE model with callbacks \"\"\"\n",
    "history = ae.fit(trainX, trainX, \n",
    "                  batch_size = batch_size, \n",
    "                  epochs = epochs, \n",
    "                  callbacks=[initial_checkpoint, checkpoint, EarlyStoppingAtMinLoss()],\n",
    "                  #callbacks=[initial_checkpoint, checkpoint],\n",
    "                  shuffle=True,\n",
    "                  validation_data=(valX, valX)\n",
    "                 )"
   ]
  },
  {
   "cell_type": "code",
   "execution_count": 32,
   "metadata": {},
   "outputs": [
    {
     "name": "stdout",
     "output_type": "stream",
     "text": [
      "Step size: 7.0\n"
     ]
    }
   ],
   "source": [
    "# In this GPU implementation, it shows the number of batches/iterations for one epoch (and not the training samples), which is:\n",
    "print (\"Step size:\", np.ceil(trainX.shape[0]/batch_size))"
   ]
  },
  {
   "cell_type": "code",
   "execution_count": 33,
   "metadata": {},
   "outputs": [],
   "source": [
    "\"\"\" Save the entire model \"\"\"\n",
    "# Save notes about hyperparameters used:\n",
    "with open(f'{SAVE_FOLDER}/notes.txt', 'w') as f:\n",
    "    f.write(f'Epochs: {epochs} \\n')\n",
    "    f.write(f'Batch size: {batch_size} \\n')\n",
    "    f.write(f'Latent dimension: {latent_dim} \\n')\n",
    "    f.write(f'Filter sizes: {filters} \\n')\n",
    "    f.write(f'img_width: {img_width} \\n')\n",
    "    f.write(f'img_height: {img_height} \\n')\n",
    "    f.write(f'num_channels: {num_channels}')\n",
    "    f.close()\n",
    "\n",
    "# Save encoder weights:\n",
    "encoder.save_weights(f'{SAVE_FOLDER}/ENCODER_WEIGHTS.h5')\n",
    "\n",
    "# Save the total AE model, i.e. its weights:\n",
    "ae.save_weights(f'{SAVE_FOLDER}/AE_WEIGHTS.h5')\n",
    "\n",
    "# Save the history at each epochs (cost of train and validation sets):\n",
    "np.save(f'{SAVE_FOLDER}/HISTORY.npy', history.history)\n",
    "\n",
    "# Save exact training, validation and testing data set (as numpy arrays):\n",
    "np.save(f'{SAVE_FOLDER}/trainX.npy', trainX)\n",
    "np.save(f'{SAVE_FOLDER}/valX.npy', valX)\n",
    "np.save(f'{SAVE_FOLDER}/testAllX.npy', testAllX)\n",
    "np.save(f'{SAVE_FOLDER}/testAllY.npy', testAllY)"
   ]
  },
  {
   "cell_type": "markdown",
   "metadata": {},
   "source": [
    "## Evaluate training process\n",
    "\n",
    "Now that the training process is complete, let’s evaluate the average loss of the model"
   ]
  },
  {
   "cell_type": "code",
   "execution_count": 34,
   "metadata": {},
   "outputs": [
    {
     "data": {
      "image/png": "[encoded data removed]",
      "text/plain": [
       "<Figure size 936x432 with 1 Axes>"
      ]
     },
     "metadata": {},
     "output_type": "display_data"
    }
   ],
   "source": [
    "sns.set_style(\"darkgrid\")\n",
    "plt.figure(figsize=(13, 6))\n",
    "\n",
    "# summarize history for loss:\n",
    "plt.plot(history.history['loss'], color='blue', label='train')\n",
    "plt.plot(history.history['val_loss'], color='blue', alpha=0.4, label='validation')\n",
    "plt.xlabel('Epoch', fontsize=16)\n",
    "plt.ylabel('Cost', fontsize=16)\n",
    "plt.tick_params(axis='both', which='major', labelsize=14)\n",
    "plt.title('Average Loss During Training', fontsize=18)\n",
    "#plt.xticks(range(0,epochs))\n",
    "plt.legend(loc='upper right', fontsize=16)\n",
    "plt.show()"
   ]
  }
 ],
 "metadata": {
  "kernelspec": {
   "display_name": "Python 3",
   "language": "python",
   "name": "python3"
  },
  "language_info": {
   "codemirror_mode": {
    "name": "ipython",
    "version": 3
   },
   "file_extension": ".py",
   "mimetype": "text/x-python",
   "name": "python",
   "nbconvert_exporter": "python",
   "pygments_lexer": "ipython3",
   "version": "3.7.8"
  }
 },
 "nbformat": 4,
 "nbformat_minor": 4
}
