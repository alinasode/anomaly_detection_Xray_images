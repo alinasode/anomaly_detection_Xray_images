{
 "cells": [
  {
   "cell_type": "markdown",
   "metadata": {},
   "source": [
    "# Evaluation of the different Anomly Scores"
   ]
  },
  {
   "cell_type": "code",
   "execution_count": 1,
   "metadata": {},
   "outputs": [],
   "source": [
    "import numpy as np\n",
    "import random\n",
    "\n",
    "import matplotlib as mpl\n",
    "import matplotlib.pyplot as plt\n",
    "from matplotlib.pyplot import axis, colorbar, imshow, show, figure, subplot\n",
    "from mpl_toolkits.axes_grid1 import make_axes_locatable\n",
    "from mpl_toolkits.axes_grid1.inset_locator import inset_axes, zoomed_inset_axes\n",
    "from mpl_toolkits.axes_grid1.inset_locator import mark_inset\n",
    "from matplotlib import cm\n",
    "%matplotlib inline\n",
    "\n",
    "import os, sys, inspect\n",
    "import csv\n",
    "\n",
    "import pandas as pd\n",
    "import seaborn as sns\n",
    "sns.set_style(\"darkgrid\")\n",
    "\n",
    "import sklearn\n",
    "from sklearn.model_selection import train_test_split\n",
    "from sklearn.metrics import classification_report\n",
    "from sklearn.metrics import confusion_matrix\n",
    "from sklearn.metrics import roc_curve, auc, roc_auc_score"
   ]
  },
  {
   "cell_type": "code",
   "execution_count": 2,
   "metadata": {},
   "outputs": [],
   "source": [
    "save_plots = False"
   ]
  },
  {
   "cell_type": "markdown",
   "metadata": {},
   "source": [
    "## Utils"
   ]
  },
  {
   "cell_type": "code",
   "execution_count": 3,
   "metadata": {},
   "outputs": [],
   "source": [
    "from utils_vae_eval_paths import *\n",
    "\n",
    "HISTORY_PATH = f'{kitkatdir}/saved_models'\n",
    "PATH = MEASUREMENTS_FOLDER\n",
    "FIGURES_FOLDER = FIGURES_FOLDER"
   ]
  },
  {
   "cell_type": "code",
   "execution_count": 4,
   "metadata": {},
   "outputs": [],
   "source": [
    "def mean_of_mean(allMeans):\n",
    "    \"\"\"\n",
    "    compute the mean of means and its error.\n",
    "    \"\"\"\n",
    "    MeanOfMean = allMeans.mean()\n",
    "    err = allMeans.std(ddof=1) / np.sqrt(len(allMeans))\n",
    "    return MeanOfMean, err"
   ]
  },
  {
   "cell_type": "markdown",
   "metadata": {},
   "source": [
    "## Evaluation Metrics: Compute Mean Results and their Errors"
   ]
  },
  {
   "cell_type": "code",
   "execution_count": 5,
   "metadata": {},
   "outputs": [],
   "source": [
    "pd.options.display.float_format = \"{:,.3}\".format\n",
    "\n",
    "COLUMN_NAMES = ['auc_score', 'specificity', 'sensitivity', 'precision', \n",
    "                'macro_f1', 'accuracy', 'misclassification']"
   ]
  },
  {
   "cell_type": "code",
   "execution_count": 6,
   "metadata": {},
   "outputs": [],
   "source": [
    "latent_dim = 8"
   ]
  },
  {
   "cell_type": "markdown",
   "metadata": {},
   "source": [
    "### SE"
   ]
  },
  {
   "cell_type": "code",
   "execution_count": 7,
   "metadata": {},
   "outputs": [
    {
     "name": "stdout",
     "output_type": "stream",
     "text": [
      "J8_AR50\n"
     ]
    },
    {
     "data": {
      "text/html": [
       "<div>\n",
       "<style scoped>\n",
       "    .dataframe tbody tr th:only-of-type {\n",
       "        vertical-align: middle;\n",
       "    }\n",
       "\n",
       "    .dataframe tbody tr th {\n",
       "        vertical-align: top;\n",
       "    }\n",
       "\n",
       "    .dataframe thead th {\n",
       "        text-align: right;\n",
       "    }\n",
       "</style>\n",
       "<table border=\"1\" class=\"dataframe\">\n",
       "  <thead>\n",
       "    <tr style=\"text-align: right;\">\n",
       "      <th></th>\n",
       "      <th>auc_score</th>\n",
       "      <th>specificity</th>\n",
       "      <th>sensitivity</th>\n",
       "      <th>precision</th>\n",
       "      <th>macro_f1</th>\n",
       "      <th>accuracy</th>\n",
       "      <th>misclassification</th>\n",
       "    </tr>\n",
       "  </thead>\n",
       "  <tbody>\n",
       "    <tr>\n",
       "      <th>mean of mean</th>\n",
       "      <td>0.996</td>\n",
       "      <td>0.972</td>\n",
       "      <td>0.976</td>\n",
       "      <td>0.973</td>\n",
       "      <td>0.974</td>\n",
       "      <td>0.974</td>\n",
       "      <td>0.0257</td>\n",
       "    </tr>\n",
       "    <tr>\n",
       "      <th>error (+/-)</th>\n",
       "      <td>0.000399</td>\n",
       "      <td>0.00186</td>\n",
       "      <td>0.00216</td>\n",
       "      <td>0.0018</td>\n",
       "      <td>0.00131</td>\n",
       "      <td>0.00131</td>\n",
       "      <td>0.00131</td>\n",
       "    </tr>\n",
       "  </tbody>\n",
       "</table>\n",
       "</div>"
      ],
      "text/plain": [
       "              auc_score  specificity  sensitivity  precision  macro_f1  \\\n",
       "mean of mean      0.996        0.972        0.976      0.973     0.974   \n",
       "error (+/-)    0.000399      0.00186      0.00216     0.0018   0.00131   \n",
       "\n",
       "              accuracy  misclassification  \n",
       "mean of mean     0.974             0.0257  \n",
       "error (+/-)    0.00131            0.00131  "
      ]
     },
     "execution_count": 7,
     "metadata": {},
     "output_type": "execute_result"
    }
   ],
   "source": [
    "filename = f'J{latent_dim}_AR50'\n",
    "print (filename)\n",
    "\n",
    "df = pd.read_csv(f\"{PATH}/{filename}.csv\", \n",
    "                 usecols = [f'{COLUMN_NAMES[0]}', f'{COLUMN_NAMES[1]}', f'{COLUMN_NAMES[2]}',\n",
    "                            f'{COLUMN_NAMES[3]}', f'{COLUMN_NAMES[4]}', f'{COLUMN_NAMES[5]}', f'{COLUMN_NAMES[6]}']) \n",
    "#df\n",
    "\n",
    "\"\"\" compute mean of means and its error for each evaluation metroc and save as new dataframe \"\"\"\n",
    "means, errs = [], []\n",
    "for column_name in df:\n",
    "    means.append(mean_of_mean(df[column_name].values)[0])\n",
    "    errs.append(mean_of_mean(df[column_name].values)[1])\n",
    "\n",
    "# combine results into same list:\n",
    "L = [means, errs]\n",
    "\n",
    "\n",
    "# contruct the dataframe:\n",
    "res = pd.DataFrame(L, index=['mean of mean', 'error (+/-)'])\n",
    "res.columns = COLUMN_NAMES\n",
    "\n",
    "# save accuracy score:\n",
    "ACC_SE    = res['accuracy'][0]\n",
    "ACCERR_SE = res['accuracy'][1]\n",
    "\n",
    "AUC_SE    = res['auc_score'][0]\n",
    "AUCERR_SE = res['auc_score'][1]\n",
    "\n",
    "# save class error rates:\n",
    "SE_MIS_NORMAL     = 1 - res['specificity'][0]\n",
    "SE_MISERR_NORMAL  = res['specificity'][1]\n",
    "SE_MIS_ANOMALY    = 1 - res['sensitivity'][0]\n",
    "SE_MISERR_ANOMALY = res['sensitivity'][1]\n",
    "SE_MIS_TOTAL      = res['misclassification'][0]\n",
    "SE_MISERR_TOTAL   = res['misclassification'][1]\n",
    "\n",
    "res"
   ]
  },
  {
   "cell_type": "markdown",
   "metadata": {},
   "source": [
    "### SSIM"
   ]
  },
  {
   "cell_type": "code",
   "execution_count": 8,
   "metadata": {},
   "outputs": [
    {
     "name": "stdout",
     "output_type": "stream",
     "text": [
      "J8_SSIM\n"
     ]
    },
    {
     "data": {
      "text/html": [
       "<div>\n",
       "<style scoped>\n",
       "    .dataframe tbody tr th:only-of-type {\n",
       "        vertical-align: middle;\n",
       "    }\n",
       "\n",
       "    .dataframe tbody tr th {\n",
       "        vertical-align: top;\n",
       "    }\n",
       "\n",
       "    .dataframe thead th {\n",
       "        text-align: right;\n",
       "    }\n",
       "</style>\n",
       "<table border=\"1\" class=\"dataframe\">\n",
       "  <thead>\n",
       "    <tr style=\"text-align: right;\">\n",
       "      <th></th>\n",
       "      <th>auc_score</th>\n",
       "      <th>specificity</th>\n",
       "      <th>sensitivity</th>\n",
       "      <th>precision</th>\n",
       "      <th>macro_f1</th>\n",
       "      <th>accuracy</th>\n",
       "      <th>misclassification</th>\n",
       "    </tr>\n",
       "  </thead>\n",
       "  <tbody>\n",
       "    <tr>\n",
       "      <th>mean of mean</th>\n",
       "      <td>0.996</td>\n",
       "      <td>0.971</td>\n",
       "      <td>0.988</td>\n",
       "      <td>0.972</td>\n",
       "      <td>0.98</td>\n",
       "      <td>0.98</td>\n",
       "      <td>0.0203</td>\n",
       "    </tr>\n",
       "    <tr>\n",
       "      <th>error (+/-)</th>\n",
       "      <td>0.000166</td>\n",
       "      <td>0.00199</td>\n",
       "      <td>0.00219</td>\n",
       "      <td>0.00188</td>\n",
       "      <td>0.00106</td>\n",
       "      <td>0.00106</td>\n",
       "      <td>0.00106</td>\n",
       "    </tr>\n",
       "  </tbody>\n",
       "</table>\n",
       "</div>"
      ],
      "text/plain": [
       "              auc_score  specificity  sensitivity  precision  macro_f1  \\\n",
       "mean of mean      0.996        0.971        0.988      0.972      0.98   \n",
       "error (+/-)    0.000166      0.00199      0.00219    0.00188   0.00106   \n",
       "\n",
       "              accuracy  misclassification  \n",
       "mean of mean      0.98             0.0203  \n",
       "error (+/-)    0.00106            0.00106  "
      ]
     },
     "execution_count": 8,
     "metadata": {},
     "output_type": "execute_result"
    }
   ],
   "source": [
    "filename = f'J{latent_dim}_SSIM'\n",
    "print (filename)\n",
    "\n",
    "df = pd.read_csv(f\"{PATH}/{filename}.csv\", \n",
    "                 usecols = [f'{COLUMN_NAMES[0]}', f'{COLUMN_NAMES[1]}', f'{COLUMN_NAMES[2]}',\n",
    "                            f'{COLUMN_NAMES[3]}', f'{COLUMN_NAMES[4]}', f'{COLUMN_NAMES[5]}', f'{COLUMN_NAMES[6]}']) \n",
    "\n",
    "\"\"\" compute mean of means and its error for each evaluation metroc and save as new dataframe \"\"\"\n",
    "means, errs = [], []\n",
    "for column_name in df:\n",
    "    means.append(mean_of_mean(df[column_name].values)[0])\n",
    "    errs.append(mean_of_mean(df[column_name].values)[1])\n",
    "\n",
    "# combine results into same list:\n",
    "L = [means, errs]\n",
    "\n",
    "# contruct the dataframe:\n",
    "res = pd.DataFrame(L, index=['mean of mean', 'error (+/-)'])\n",
    "res.columns = COLUMN_NAMES\n",
    "\n",
    "# save accuracy score:\n",
    "ACC_SSIM    = res['accuracy'][0]\n",
    "ACCERR_SSIM = res['accuracy'][1]\n",
    "\n",
    "AUC_SSIM    = res['auc_score'][0]\n",
    "AUCERR_SSIM = res['auc_score'][1]\n",
    "\n",
    "# save class error rates:\n",
    "SSIM_MIS_NORMAL     = 1 - res['specificity'][0]\n",
    "SSIM_MISERR_NORMAL  = res['specificity'][1]\n",
    "SSIM_MIS_ANOMALY    = 1 - res['sensitivity'][0]\n",
    "SSIM_MISERR_ANOMALY = res['sensitivity'][1]\n",
    "SSIM_MIS_TOTAL      = res['misclassification'][0]\n",
    "SSIM_MISERR_TOTAL   = res['misclassification'][1]\n",
    "\n",
    "res"
   ]
  },
  {
   "cell_type": "markdown",
   "metadata": {},
   "source": [
    "### ZNCC"
   ]
  },
  {
   "cell_type": "code",
   "execution_count": 9,
   "metadata": {},
   "outputs": [
    {
     "name": "stdout",
     "output_type": "stream",
     "text": [
      "J8_ZNCC\n"
     ]
    },
    {
     "data": {
      "text/html": [
       "<div>\n",
       "<style scoped>\n",
       "    .dataframe tbody tr th:only-of-type {\n",
       "        vertical-align: middle;\n",
       "    }\n",
       "\n",
       "    .dataframe tbody tr th {\n",
       "        vertical-align: top;\n",
       "    }\n",
       "\n",
       "    .dataframe thead th {\n",
       "        text-align: right;\n",
       "    }\n",
       "</style>\n",
       "<table border=\"1\" class=\"dataframe\">\n",
       "  <thead>\n",
       "    <tr style=\"text-align: right;\">\n",
       "      <th></th>\n",
       "      <th>auc_score</th>\n",
       "      <th>specificity</th>\n",
       "      <th>sensitivity</th>\n",
       "      <th>precision</th>\n",
       "      <th>macro_f1</th>\n",
       "      <th>accuracy</th>\n",
       "      <th>misclassification</th>\n",
       "    </tr>\n",
       "  </thead>\n",
       "  <tbody>\n",
       "    <tr>\n",
       "      <th>mean of mean</th>\n",
       "      <td>0.997</td>\n",
       "      <td>0.979</td>\n",
       "      <td>0.991</td>\n",
       "      <td>0.979</td>\n",
       "      <td>0.985</td>\n",
       "      <td>0.985</td>\n",
       "      <td>0.0152</td>\n",
       "    </tr>\n",
       "    <tr>\n",
       "      <th>error (+/-)</th>\n",
       "      <td>0.000313</td>\n",
       "      <td>0.0017</td>\n",
       "      <td>0.00111</td>\n",
       "      <td>0.00164</td>\n",
       "      <td>0.000808</td>\n",
       "      <td>0.000808</td>\n",
       "      <td>0.000808</td>\n",
       "    </tr>\n",
       "  </tbody>\n",
       "</table>\n",
       "</div>"
      ],
      "text/plain": [
       "              auc_score  specificity  sensitivity  precision  macro_f1  \\\n",
       "mean of mean      0.997        0.979        0.991      0.979     0.985   \n",
       "error (+/-)    0.000313       0.0017      0.00111    0.00164  0.000808   \n",
       "\n",
       "              accuracy  misclassification  \n",
       "mean of mean     0.985             0.0152  \n",
       "error (+/-)   0.000808           0.000808  "
      ]
     },
     "execution_count": 9,
     "metadata": {},
     "output_type": "execute_result"
    }
   ],
   "source": [
    "filename = f'J{latent_dim}_ZNCC'\n",
    "print (filename)\n",
    "\n",
    "df = pd.read_csv(f\"{PATH}/{filename}.csv\", \n",
    "                 usecols = [f'{COLUMN_NAMES[0]}', f'{COLUMN_NAMES[1]}', f'{COLUMN_NAMES[2]}',\n",
    "                            f'{COLUMN_NAMES[3]}', f'{COLUMN_NAMES[4]}', f'{COLUMN_NAMES[5]}', f'{COLUMN_NAMES[6]}']) \n",
    "\n",
    "\"\"\" compute mean of means and its error for each evaluation metroc and save as new dataframe \"\"\"\n",
    "means, errs = [], []\n",
    "for column_name in df:\n",
    "    means.append(mean_of_mean(df[column_name].values)[0])\n",
    "    errs.append(mean_of_mean(df[column_name].values)[1])\n",
    "\n",
    "# combine results into same list:\n",
    "L = [means, errs]\n",
    "\n",
    "# contruct the dataframe:\n",
    "res = pd.DataFrame(L, index=['mean of mean', 'error (+/-)'])\n",
    "res.columns = COLUMN_NAMES\n",
    "\n",
    "# save accuracy score:\n",
    "ACC_ZNCC    = res['accuracy'][0]\n",
    "ACCERR_ZNCC = res['accuracy'][1]\n",
    "\n",
    "AUC_ZNCC    = res['auc_score'][0]\n",
    "AUCERR_ZNCC = res['auc_score'][1]\n",
    "\n",
    "# save class error rates:\n",
    "ZNCC_MIS_NORMAL     = 1 - res['specificity'][0]\n",
    "ZNCC_MISERR_NORMAL  = res['specificity'][1]\n",
    "ZNCC_MIS_ANOMALY    = 1 - res['sensitivity'][0]\n",
    "ZNCC_MISERR_ANOMALY = res['sensitivity'][1]\n",
    "ZNCC_MIS_TOTAL      = res['misclassification'][0]\n",
    "ZNCC_MISERR_TOTAL   = res['misclassification'][1]\n",
    "\n",
    "res"
   ]
  },
  {
   "cell_type": "markdown",
   "metadata": {},
   "source": [
    "### GMSD"
   ]
  },
  {
   "cell_type": "code",
   "execution_count": 10,
   "metadata": {},
   "outputs": [
    {
     "name": "stdout",
     "output_type": "stream",
     "text": [
      "J8_GMSD\n"
     ]
    },
    {
     "data": {
      "text/html": [
       "<div>\n",
       "<style scoped>\n",
       "    .dataframe tbody tr th:only-of-type {\n",
       "        vertical-align: middle;\n",
       "    }\n",
       "\n",
       "    .dataframe tbody tr th {\n",
       "        vertical-align: top;\n",
       "    }\n",
       "\n",
       "    .dataframe thead th {\n",
       "        text-align: right;\n",
       "    }\n",
       "</style>\n",
       "<table border=\"1\" class=\"dataframe\">\n",
       "  <thead>\n",
       "    <tr style=\"text-align: right;\">\n",
       "      <th></th>\n",
       "      <th>auc_score</th>\n",
       "      <th>specificity</th>\n",
       "      <th>sensitivity</th>\n",
       "      <th>precision</th>\n",
       "      <th>macro_f1</th>\n",
       "      <th>accuracy</th>\n",
       "      <th>misclassification</th>\n",
       "    </tr>\n",
       "  </thead>\n",
       "  <tbody>\n",
       "    <tr>\n",
       "      <th>mean of mean</th>\n",
       "      <td>0.994</td>\n",
       "      <td>0.969</td>\n",
       "      <td>0.981</td>\n",
       "      <td>0.97</td>\n",
       "      <td>0.975</td>\n",
       "      <td>0.975</td>\n",
       "      <td>0.0247</td>\n",
       "    </tr>\n",
       "    <tr>\n",
       "      <th>error (+/-)</th>\n",
       "      <td>0.000309</td>\n",
       "      <td>0.00233</td>\n",
       "      <td>0.00281</td>\n",
       "      <td>0.00219</td>\n",
       "      <td>0.00128</td>\n",
       "      <td>0.00128</td>\n",
       "      <td>0.00128</td>\n",
       "    </tr>\n",
       "  </tbody>\n",
       "</table>\n",
       "</div>"
      ],
      "text/plain": [
       "              auc_score  specificity  sensitivity  precision  macro_f1  \\\n",
       "mean of mean      0.994        0.969        0.981       0.97     0.975   \n",
       "error (+/-)    0.000309      0.00233      0.00281    0.00219   0.00128   \n",
       "\n",
       "              accuracy  misclassification  \n",
       "mean of mean     0.975             0.0247  \n",
       "error (+/-)    0.00128            0.00128  "
      ]
     },
     "execution_count": 10,
     "metadata": {},
     "output_type": "execute_result"
    }
   ],
   "source": [
    "filename = f'J{latent_dim}_GMSD'\n",
    "print (filename)\n",
    "\n",
    "df = pd.read_csv(f\"{PATH}/{filename}.csv\", \n",
    "                 usecols = [f'{COLUMN_NAMES[0]}', f'{COLUMN_NAMES[1]}', f'{COLUMN_NAMES[2]}',\n",
    "                            f'{COLUMN_NAMES[3]}', f'{COLUMN_NAMES[4]}', f'{COLUMN_NAMES[5]}', f'{COLUMN_NAMES[6]}']) \n",
    "\n",
    "\"\"\" compute mean of means and its error for each evaluation metroc and save as new dataframe \"\"\"\n",
    "means, errs = [], []\n",
    "for column_name in df:\n",
    "    means.append(mean_of_mean(df[column_name].values)[0])\n",
    "    errs.append(mean_of_mean(df[column_name].values)[1])\n",
    "\n",
    "# combine results into same list:\n",
    "L = [means, errs]\n",
    "\n",
    "# contruct the dataframe:\n",
    "res = pd.DataFrame(L, index=['mean of mean', 'error (+/-)'])\n",
    "res.columns = COLUMN_NAMES\n",
    "\n",
    "# save accuracy score:\n",
    "ACC_GMSD    = res['accuracy'][0]\n",
    "ACCERR_GMSD = res['accuracy'][1]\n",
    "\n",
    "AUC_GMSD    = res['auc_score'][0]\n",
    "AUCERR_GMSD = res['auc_score'][1]\n",
    "\n",
    "# save class error rates:\n",
    "GMSD_MIS_NORMAL     = 1 - res['specificity'][0]\n",
    "GMSD_MISERR_NORMAL  = res['specificity'][1]\n",
    "GMSD_MIS_ANOMALY    = 1 - res['sensitivity'][0]\n",
    "GMSD_MISERR_ANOMALY = res['sensitivity'][1]\n",
    "GMSD_MIS_TOTAL      = res['misclassification'][0]\n",
    "GMSD_MISERR_TOTAL   = res['misclassification'][1]\n",
    "\n",
    "res"
   ]
  },
  {
   "cell_type": "markdown",
   "metadata": {},
   "source": [
    "### IMED"
   ]
  },
  {
   "cell_type": "code",
   "execution_count": 11,
   "metadata": {},
   "outputs": [
    {
     "name": "stdout",
     "output_type": "stream",
     "text": [
      "J8_IMED\n"
     ]
    },
    {
     "data": {
      "text/html": [
       "<div>\n",
       "<style scoped>\n",
       "    .dataframe tbody tr th:only-of-type {\n",
       "        vertical-align: middle;\n",
       "    }\n",
       "\n",
       "    .dataframe tbody tr th {\n",
       "        vertical-align: top;\n",
       "    }\n",
       "\n",
       "    .dataframe thead th {\n",
       "        text-align: right;\n",
       "    }\n",
       "</style>\n",
       "<table border=\"1\" class=\"dataframe\">\n",
       "  <thead>\n",
       "    <tr style=\"text-align: right;\">\n",
       "      <th></th>\n",
       "      <th>auc_score</th>\n",
       "      <th>specificity</th>\n",
       "      <th>sensitivity</th>\n",
       "      <th>precision</th>\n",
       "      <th>macro_f1</th>\n",
       "      <th>accuracy</th>\n",
       "      <th>misclassification</th>\n",
       "    </tr>\n",
       "  </thead>\n",
       "  <tbody>\n",
       "    <tr>\n",
       "      <th>mean of mean</th>\n",
       "      <td>0.994</td>\n",
       "      <td>0.966</td>\n",
       "      <td>0.968</td>\n",
       "      <td>0.966</td>\n",
       "      <td>0.967</td>\n",
       "      <td>0.967</td>\n",
       "      <td>0.0326</td>\n",
       "    </tr>\n",
       "    <tr>\n",
       "      <th>error (+/-)</th>\n",
       "      <td>0.000367</td>\n",
       "      <td>0.00213</td>\n",
       "      <td>0.002</td>\n",
       "      <td>0.00204</td>\n",
       "      <td>0.00142</td>\n",
       "      <td>0.00142</td>\n",
       "      <td>0.00142</td>\n",
       "    </tr>\n",
       "  </tbody>\n",
       "</table>\n",
       "</div>"
      ],
      "text/plain": [
       "              auc_score  specificity  sensitivity  precision  macro_f1  \\\n",
       "mean of mean      0.994        0.966        0.968      0.966     0.967   \n",
       "error (+/-)    0.000367      0.00213        0.002    0.00204   0.00142   \n",
       "\n",
       "              accuracy  misclassification  \n",
       "mean of mean     0.967             0.0326  \n",
       "error (+/-)    0.00142            0.00142  "
      ]
     },
     "execution_count": 11,
     "metadata": {},
     "output_type": "execute_result"
    }
   ],
   "source": [
    "filename = f'J{latent_dim}_IMED'\n",
    "print (filename)\n",
    "\n",
    "df = pd.read_csv(f\"{PATH}/{filename}.csv\", \n",
    "                 usecols = [f'{COLUMN_NAMES[0]}', f'{COLUMN_NAMES[1]}', f'{COLUMN_NAMES[2]}',\n",
    "                            f'{COLUMN_NAMES[3]}', f'{COLUMN_NAMES[4]}', f'{COLUMN_NAMES[5]}', f'{COLUMN_NAMES[6]}']) \n",
    "\n",
    "\"\"\" compute mean of means and its error for each evaluation metroc and save as new dataframe \"\"\"\n",
    "means, errs = [], []\n",
    "for column_name in df:\n",
    "    means.append(mean_of_mean(df[column_name].values)[0])\n",
    "    errs.append(mean_of_mean(df[column_name].values)[1])\n",
    "\n",
    "# combine results into same list:\n",
    "L = [means, errs]\n",
    "\n",
    "# contruct the dataframe:\n",
    "res = pd.DataFrame(L, index=['mean of mean', 'error (+/-)'])\n",
    "res.columns = COLUMN_NAMES\n",
    "\n",
    "# save accuracy score:\n",
    "ACC_IMED    = res['accuracy'][0]\n",
    "ACCERR_IMED = res['accuracy'][1]\n",
    "\n",
    "AUC_IMED    = res['auc_score'][0]\n",
    "AUCERR_IMED = res['auc_score'][1]\n",
    "\n",
    "# save class error rates:\n",
    "IMED_MIS_NORMAL     = 1 - res['specificity'][0]\n",
    "IMED_MISERR_NORMAL  = res['specificity'][1]\n",
    "IMED_MIS_ANOMALY    = 1 - res['sensitivity'][0]\n",
    "IMED_MISERR_ANOMALY = res['sensitivity'][1]\n",
    "IMED_MIS_TOTAL      = res['misclassification'][0]\n",
    "IMED_MISERR_TOTAL   = res['misclassification'][1]\n",
    "\n",
    "res"
   ]
  },
  {
   "cell_type": "markdown",
   "metadata": {},
   "source": [
    "### Bar Plot over Accuracy"
   ]
  },
  {
   "cell_type": "code",
   "execution_count": 12,
   "metadata": {},
   "outputs": [
    {
     "data": {
      "image/png": "[encoded data removed]",
      "text/plain": [
       "<Figure size 432x288 with 1 Axes>"
      ]
     },
     "metadata": {},
     "output_type": "display_data"
    }
   ],
   "source": [
    "N = 5\n",
    "ANOMALY_SCORE  = ['SE','SSIM','ZNCC','GMSD','IMED']\n",
    "ACCURACY       = (ACC_SE*100, ACC_SSIM*100, ACC_ZNCC*100, ACC_GMSD*100, ACC_IMED*100)\n",
    "STD_ERROR      = (ACCERR_SE*100, ACCERR_SSIM*100, ACCERR_ZNCC*100, ACCERR_GMSD*100, ACCERR_IMED*100)\n",
    "\n",
    "New_Colors = ['green','blue','purple','brown','teal']\n",
    "plt.bar(ANOMALY_SCORE, ACCURACY, color=New_Colors)\n",
    "plt.xlabel('Anomaly Score', fontsize=14)\n",
    "plt.ylabel('Accuracy [%]', fontsize=14)\n",
    "plt.grid(True)\n",
    "plt.show()"
   ]
  },
  {
   "cell_type": "markdown",
   "metadata": {},
   "source": [
    "### Average Class Misclassifications/Error Rates"
   ]
  },
  {
   "cell_type": "code",
   "execution_count": 13,
   "metadata": {},
   "outputs": [
    {
     "data": {
      "image/png": "[encoded data removed]",
      "text/plain": [
       "<Figure size 360x216 with 1 Axes>"
      ]
     },
     "metadata": {},
     "output_type": "display_data"
    }
   ],
   "source": [
    "N = 5\n",
    "ANOMALY_SCORE  = ['SE','IMED', 'SSIM','ZNCC','GMSD']\n",
    "\n",
    "ERR_RATE_NORMAL = (SE_MIS_NORMAL*100, IMED_MIS_NORMAL*100, SSIM_MIS_NORMAL*100, ZNCC_MIS_NORMAL*100, GMSD_MIS_NORMAL*100)\n",
    "STD_ERR_NORMAL  = (SE_MISERR_NORMAL*100, IMED_MISERR_NORMAL*100, SSIM_MISERR_NORMAL*100, ZNCC_MISERR_NORMAL*100, GMSD_MISERR_NORMAL*100)\n",
    "\n",
    "ERR_RATE_ANOMALY = (SE_MIS_ANOMALY*100, IMED_MIS_ANOMALY*100, SSIM_MIS_ANOMALY*100, ZNCC_MIS_ANOMALY*100, GMSD_MIS_ANOMALY*100)\n",
    "STD_ERR_ANOMALY  = (SE_MISERR_ANOMALY*100, IMED_MISERR_ANOMALY*100, SSIM_MISERR_ANOMALY*100, ZNCC_MISERR_ANOMALY*100, GMSD_MISERR_ANOMALY*100)\n",
    "\n",
    "ERR_RATE_TOTAL = (SE_MIS_TOTAL*100, IMED_MIS_TOTAL*100, SSIM_MIS_TOTAL*100, ZNCC_MIS_TOTAL*100, GMSD_MIS_TOTAL*100)\n",
    "STD_ERR_TOTAL  = (SE_MISERR_TOTAL*100, IMED_MISERR_TOTAL*100, SSIM_MISERR_TOTAL*100, ZNCC_MISERR_TOTAL*100, GMSD_MISERR_TOTAL*100)\n",
    "\n",
    "\"\"\"\n",
    "========\n",
    "Barchart\n",
    "========\n",
    "A bar plot with errorbars and height labels on individual bars\n",
    "Source: https://stackoverflow.com/questions/30228069/how-to-display-the-value-of-the-bar-on-each-bar-with-pyplot-barh\n",
    "\"\"\"\n",
    "sns.set_style(\"darkgrid\")\n",
    "LARGE_FONT  = 20\n",
    "MEDIUM_FONT = 18\n",
    "SMALL_FONT  = 16\n",
    "\n",
    "ind = np.arange(N)  # the x locations for the groups\n",
    "width0 = -0.25\n",
    "width = 0.25       # the width of the bars\n",
    "width2 = 0.5       # the width of the bars\n",
    "\n",
    "fig, ax = plt.subplots(figsize=(5, 3))\n",
    "rects1 = ax.bar(ind, ERR_RATE_NORMAL, width0, align=\"center\", color='g', hatch=r\"//\", alpha=0.5, \n",
    "                yerr=STD_ERR_NORMAL, linewidth=1, capsize=4, label='normal')\n",
    "\n",
    "rects2 = ax.bar(ind + width, ERR_RATE_ANOMALY, width0, align=\"center\", color='#cd2a3d', hatch=r\"\\\\\", alpha=0.9, \n",
    "                yerr=STD_ERR_ANOMALY, linewidth=1, capsize=4, label='anomaly')\n",
    "\n",
    "rects3 = ax.bar(ind + width2, ERR_RATE_TOTAL, width0, align=\"center\", color='lightsteelblue', hatch=r\"\", alpha=1., \n",
    "                yerr=STD_ERR_TOTAL, linewidth=1, capsize=4, label='total')\n",
    "\n",
    "# add some text for labels, title and axes ticks\n",
    "ax.set_title('Chocolate Test Set: Class Errors', fontsize=18, pad=40)\n",
    "ax.set_ylabel('Error Rate [%]', fontsize=MEDIUM_FONT)\n",
    "ax.set_xticks([]) \n",
    "ax.set_xticks(ind + width / 2)\n",
    "ax.set_xticklabels(('   SE', '   IMED', '   SSIM', '   ZNCC', '   GMSD'), fontsize=MEDIUM_FONT)\n",
    "plt.tick_params(axis='both', which='major', labelsize=SMALL_FONT)\n",
    "\n",
    "ax.legend(bbox_to_anchor=(0, 1.02, 1, 0.2), loc='lower left', mode='expand', borderaxespad=0, ncol=4,\n",
    "               numpoints=1, fontsize=14) \n",
    "\n",
    "save_plots=False\n",
    "if (save_plots):\n",
    "    plt.savefig(f\"{FIGURES_FOLDER}/class_errors_kitkat.png\", dpi=300, bbox_inches='tight')\n",
    "plt.show()"
   ]
  },
  {
   "cell_type": "markdown",
   "metadata": {},
   "source": [
    "## Stat. on ROC Curve\n"
   ]
  },
  {
   "cell_type": "code",
   "execution_count": 14,
   "metadata": {},
   "outputs": [],
   "source": [
    "import re\n",
    "\n",
    "def make_dataframe(df, column_name=column_name):\n",
    "    \n",
    "    def convert_str_to_float(df, column_name=column_name, row_number=0):\n",
    "        def urlify(s):\n",
    "            \"\"\"\n",
    "            Source: https://stackoverflow.com/questions/1007481/how-do-i-replace-whitespaces-with-underscore\n",
    "            \"\"\"\n",
    "            # Remove all non-word characters (everything except numbers and letters)\n",
    "            #s = re.sub(r\"[^\\w\\s]\", '', s)\n",
    "\n",
    "            # Replace all runs of whitespace with a single dash\n",
    "            s = re.sub(r\"\\s+\", ',', s)\n",
    "            return s\n",
    "        \n",
    "        \"\"\" convert to numpy arrays \"\"\"\n",
    "        # remove white space from string type:\n",
    "        column = df[f'{column_name}'][row_number]\n",
    "        string = urlify(column)\n",
    "\n",
    "        # convert from string to list:\n",
    "        listRes = string.strip('][').split(',')\n",
    "        listRes = listRes[:-1]                        # delete last white element space \n",
    "\n",
    "        # convert from list to (float) numpy array\n",
    "        array = np.array(listRes, dtype=np.float64)\n",
    "        return array\n",
    "    \n",
    "    \"\"\" contruct new dataframe \"\"\"\n",
    "    # construct column names:\n",
    "    N = len(df[f'{column_name}'])\n",
    "    set_column_names = []\n",
    "    for i in range(N):\n",
    "        set_column_names.append(f'n={i}')\n",
    "    \n",
    "    # make new dataframe:\n",
    "    df_new = pd.DataFrame(columns=set_column_names)\n",
    "    for row_number in range(len(df[f'{column_name}'])):\n",
    "        array = convert_str_to_float(df, column_name=column_name, row_number=row_number)\n",
    "\n",
    "        for j in range(len(array)):\n",
    "            df_new.loc[j, f'{set_column_names[row_number]}'] = array[j]\n",
    "    return df_new    "
   ]
  },
  {
   "cell_type": "code",
   "execution_count": 15,
   "metadata": {},
   "outputs": [],
   "source": [
    "COLUMN_NAMES = ['fpr', 'tpr']"
   ]
  },
  {
   "cell_type": "markdown",
   "metadata": {},
   "source": [
    "### Get Data"
   ]
  },
  {
   "cell_type": "markdown",
   "metadata": {},
   "source": [
    "#### SE"
   ]
  },
  {
   "cell_type": "code",
   "execution_count": 16,
   "metadata": {},
   "outputs": [
    {
     "name": "stdout",
     "output_type": "stream",
     "text": [
      "J8_AR50 fpr\n",
      "J8_AR50 tpr\n"
     ]
    }
   ],
   "source": [
    "filename = f'J{latent_dim}_AR50'\n",
    "\n",
    "\"\"\" extract FPR \"\"\"\n",
    "COLUMN_NAME = 'fpr'\n",
    "df = pd.read_csv(f\"{PATH}/{filename}.csv\",\n",
    "                usecols = [f'{COLUMN_NAME}']\n",
    "                ) \n",
    "print (filename, COLUMN_NAME)\n",
    "\n",
    "df_fpr = make_dataframe(df, column_name=COLUMN_NAME)\n",
    "#df_fpr\n",
    "\n",
    "# compute and add quantiles to dataframe:\n",
    "df_fpr['Q1'] = df_fpr.astype(float).quantile(q=0.25, axis=1, numeric_only=True, interpolation='linear').reset_index(drop=True)\n",
    "df_fpr['Q2'] = df_fpr.astype(float).quantile(q=0.50, axis=1, numeric_only=True, interpolation='linear').reset_index(drop=True)\n",
    "df_fpr['Q3'] = df_fpr.astype(float).quantile(q=0.75, axis=1, numeric_only=True, interpolation='linear').reset_index(drop=True)\n",
    "#df_fpr\n",
    "\n",
    "# save as numpy arrays:\n",
    "SE_fprQ1 = df_fpr['Q1'].to_numpy()\n",
    "SE_fprQ2 = df_fpr['Q2'].to_numpy()\n",
    "SE_fprQ3 = df_fpr['Q3'].to_numpy()\n",
    "\n",
    "\"\"\" extract TPR \"\"\"\n",
    "COLUMN_NAME = 'tpr'\n",
    "df = pd.read_csv(f\"{PATH}/{filename}.csv\",\n",
    "                usecols = [f'{COLUMN_NAME}']\n",
    "                ) \n",
    "print (filename, COLUMN_NAME)\n",
    "\n",
    "# convert to dataframe:\n",
    "df_tpr = make_dataframe(df, column_name=COLUMN_NAME)\n",
    "\n",
    "# compute and add quantiles to dataframe:\n",
    "df_tpr['Q1'] = df_tpr.astype(float).quantile(q=0.25, axis=1, numeric_only=True, interpolation='linear').reset_index(drop=True)\n",
    "df_tpr['Q2'] = df_tpr.astype(float).quantile(q=0.50, axis=1, numeric_only=True, interpolation='linear').reset_index(drop=True)\n",
    "df_tpr['Q3'] = df_tpr.astype(float).quantile(q=0.75, axis=1, numeric_only=True, interpolation='linear').reset_index(drop=True)\n",
    "#df_tpr\n",
    "\n",
    "# save as numpy arrays:\n",
    "SE_tprQ1 = df_tpr['Q1'].to_numpy()\n",
    "SE_tprQ2 = df_tpr['Q2'].to_numpy()\n",
    "SE_tprQ3 = df_tpr['Q3'].to_numpy()"
   ]
  },
  {
   "cell_type": "markdown",
   "metadata": {},
   "source": [
    "#### SSIM"
   ]
  },
  {
   "cell_type": "code",
   "execution_count": 17,
   "metadata": {},
   "outputs": [
    {
     "name": "stdout",
     "output_type": "stream",
     "text": [
      "J8_SSIM fpr\n",
      "J8_SSIM tpr\n"
     ]
    }
   ],
   "source": [
    "filename = f'J{latent_dim}_SSIM'\n",
    "\n",
    "\"\"\" extract FPR \"\"\"\n",
    "COLUMN_NAME = 'fpr'\n",
    "df = pd.read_csv(f\"{PATH}/{filename}.csv\",\n",
    "                usecols = [f'{COLUMN_NAME}']\n",
    "                ) \n",
    "print (filename, COLUMN_NAME)\n",
    "\n",
    "df_fpr = make_dataframe(df, column_name=COLUMN_NAME)\n",
    "#df_fpr\n",
    "\n",
    "# compute and add quantiles to dataframe:\n",
    "df_fpr['Q1'] = df_fpr.astype(float).quantile(q=0.25, axis=1, numeric_only=True, interpolation='linear').reset_index(drop=True)\n",
    "df_fpr['Q2'] = df_fpr.astype(float).quantile(q=0.50, axis=1, numeric_only=True, interpolation='linear').reset_index(drop=True)\n",
    "df_fpr['Q3'] = df_fpr.astype(float).quantile(q=0.75, axis=1, numeric_only=True, interpolation='linear').reset_index(drop=True)\n",
    "#df_fpr\n",
    "\n",
    "# save as numpy arrays:\n",
    "SSIM_fprQ1 = df_fpr['Q1'].to_numpy()\n",
    "SSIM_fprQ2 = df_fpr['Q2'].to_numpy()\n",
    "SSIM_fprQ3 = df_fpr['Q3'].to_numpy()\n",
    "\n",
    "\"\"\" extract TPR \"\"\"\n",
    "COLUMN_NAME = 'tpr'\n",
    "df = pd.read_csv(f\"{PATH}/{filename}.csv\",\n",
    "                usecols = [f'{COLUMN_NAME}']\n",
    "                ) \n",
    "print (filename, COLUMN_NAME)\n",
    "\n",
    "# convert to dataframe:\n",
    "df_tpr = make_dataframe(df, column_name=COLUMN_NAME)\n",
    "\n",
    "# compute and add quantiles to dataframe:\n",
    "df_tpr['Q1'] = df_tpr.astype(float).quantile(q=0.25, axis=1, numeric_only=True, interpolation='linear').reset_index(drop=True)\n",
    "df_tpr['Q2'] = df_tpr.astype(float).quantile(q=0.50, axis=1, numeric_only=True, interpolation='linear').reset_index(drop=True)\n",
    "df_tpr['Q3'] = df_tpr.astype(float).quantile(q=0.75, axis=1, numeric_only=True, interpolation='linear').reset_index(drop=True)\n",
    "#df_tpr\n",
    "\n",
    "# save as numpy arrays:\n",
    "SSIM_tprQ1 = df_tpr['Q1'].to_numpy()\n",
    "SSIM_tprQ2 = df_tpr['Q2'].to_numpy()\n",
    "SSIM_tprQ3 = df_tpr['Q3'].to_numpy()"
   ]
  },
  {
   "cell_type": "markdown",
   "metadata": {},
   "source": [
    "#### ZNCC"
   ]
  },
  {
   "cell_type": "code",
   "execution_count": 18,
   "metadata": {},
   "outputs": [
    {
     "name": "stdout",
     "output_type": "stream",
     "text": [
      "J8_ZNCC fpr\n",
      "J8_ZNCC tpr\n"
     ]
    }
   ],
   "source": [
    "filename = f'J{latent_dim}_ZNCC'\n",
    "\n",
    "\"\"\" extract FPR \"\"\"\n",
    "COLUMN_NAME = 'fpr'\n",
    "df = pd.read_csv(f\"{PATH}/{filename}.csv\",\n",
    "                usecols = [f'{COLUMN_NAME}']\n",
    "                ) \n",
    "print (filename, COLUMN_NAME)\n",
    "\n",
    "df_fpr = make_dataframe(df, column_name=COLUMN_NAME)\n",
    "#df_fpr\n",
    "\n",
    "# compute and add quantiles to dataframe:\n",
    "df_fpr['Q1'] = df_fpr.astype(float).quantile(q=0.25, axis=1, numeric_only=True, interpolation='linear').reset_index(drop=True)\n",
    "df_fpr['Q2'] = df_fpr.astype(float).quantile(q=0.50, axis=1, numeric_only=True, interpolation='linear').reset_index(drop=True)\n",
    "df_fpr['Q3'] = df_fpr.astype(float).quantile(q=0.75, axis=1, numeric_only=True, interpolation='linear').reset_index(drop=True)\n",
    "#df_fpr\n",
    "\n",
    "# save as numpy arrays:\n",
    "ZNCC_fprQ1 = df_fpr['Q1'].to_numpy()\n",
    "ZNCC_fprQ2 = df_fpr['Q2'].to_numpy()\n",
    "ZNCC_fprQ3 = df_fpr['Q3'].to_numpy()\n",
    "\n",
    "\"\"\" extract TPR \"\"\"\n",
    "COLUMN_NAME = 'tpr'\n",
    "df = pd.read_csv(f\"{PATH}/{filename}.csv\",\n",
    "                usecols = [f'{COLUMN_NAME}']\n",
    "                ) \n",
    "print (filename, COLUMN_NAME)\n",
    "\n",
    "# convert to dataframe:\n",
    "df_tpr = make_dataframe(df, column_name=COLUMN_NAME)\n",
    "\n",
    "# compute and add quantiles to dataframe:\n",
    "df_tpr['Q1'] = df_tpr.astype(float).quantile(q=0.25, axis=1, numeric_only=True, interpolation='linear').reset_index(drop=True)\n",
    "df_tpr['Q2'] = df_tpr.astype(float).quantile(q=0.50, axis=1, numeric_only=True, interpolation='linear').reset_index(drop=True)\n",
    "df_tpr['Q3'] = df_tpr.astype(float).quantile(q=0.75, axis=1, numeric_only=True, interpolation='linear').reset_index(drop=True)\n",
    "#df_tpr\n",
    "\n",
    "# save as numpy arrays:\n",
    "ZNCC_tprQ1 = df_tpr['Q1'].to_numpy()\n",
    "ZNCC_tprQ2 = df_tpr['Q2'].to_numpy()\n",
    "ZNCC_tprQ3 = df_tpr['Q3'].to_numpy()"
   ]
  },
  {
   "cell_type": "markdown",
   "metadata": {},
   "source": [
    "#### GMSD"
   ]
  },
  {
   "cell_type": "code",
   "execution_count": 19,
   "metadata": {},
   "outputs": [
    {
     "name": "stdout",
     "output_type": "stream",
     "text": [
      "J8_GMSD fpr\n",
      "J8_GMSD tpr\n"
     ]
    }
   ],
   "source": [
    "filename = f'J{latent_dim}_GMSD'\n",
    "\n",
    "\"\"\" extract FPR \"\"\"\n",
    "COLUMN_NAME = 'fpr'\n",
    "df = pd.read_csv(f\"{PATH}/{filename}.csv\",\n",
    "                usecols = [f'{COLUMN_NAME}']\n",
    "                ) \n",
    "print (filename, COLUMN_NAME)\n",
    "\n",
    "df_fpr = make_dataframe(df, column_name=COLUMN_NAME)\n",
    "#df_fpr\n",
    "\n",
    "# compute and add quantiles to dataframe:\n",
    "df_fpr['Q1'] = df_fpr.astype(float).quantile(q=0.25, axis=1, numeric_only=True, interpolation='linear').reset_index(drop=True)\n",
    "df_fpr['Q2'] = df_fpr.astype(float).quantile(q=0.50, axis=1, numeric_only=True, interpolation='linear').reset_index(drop=True)\n",
    "df_fpr['Q3'] = df_fpr.astype(float).quantile(q=0.75, axis=1, numeric_only=True, interpolation='linear').reset_index(drop=True)\n",
    "#df_fpr\n",
    "\n",
    "# save as numpy arrays:\n",
    "GMSD_fprQ1 = df_fpr['Q1'].to_numpy()\n",
    "GMSD_fprQ2 = df_fpr['Q2'].to_numpy()\n",
    "GMSD_fprQ3 = df_fpr['Q3'].to_numpy()\n",
    "\n",
    "\"\"\" extract TPR \"\"\"\n",
    "COLUMN_NAME = 'tpr'\n",
    "df = pd.read_csv(f\"{PATH}/{filename}.csv\",\n",
    "                usecols = [f'{COLUMN_NAME}']\n",
    "                ) \n",
    "print (filename, COLUMN_NAME)\n",
    "\n",
    "# convert to dataframe:\n",
    "df_tpr = make_dataframe(df, column_name=COLUMN_NAME)\n",
    "\n",
    "# compute and add quantiles to dataframe:\n",
    "df_tpr['Q1'] = df_tpr.astype(float).quantile(q=0.25, axis=1, numeric_only=True, interpolation='linear').reset_index(drop=True)\n",
    "df_tpr['Q2'] = df_tpr.astype(float).quantile(q=0.50, axis=1, numeric_only=True, interpolation='linear').reset_index(drop=True)\n",
    "df_tpr['Q3'] = df_tpr.astype(float).quantile(q=0.75, axis=1, numeric_only=True, interpolation='linear').reset_index(drop=True)\n",
    "#df_tpr\n",
    "\n",
    "# save as numpy arrays:\n",
    "GMSD_tprQ1 = df_tpr['Q1'].to_numpy()\n",
    "GMSD_tprQ2 = df_tpr['Q2'].to_numpy()\n",
    "GMSD_tprQ3 = df_tpr['Q3'].to_numpy()"
   ]
  },
  {
   "cell_type": "markdown",
   "metadata": {},
   "source": [
    "#### IMED"
   ]
  },
  {
   "cell_type": "code",
   "execution_count": 20,
   "metadata": {},
   "outputs": [
    {
     "name": "stdout",
     "output_type": "stream",
     "text": [
      "J8_IMED fpr\n",
      "J8_IMED tpr\n"
     ]
    }
   ],
   "source": [
    "filename = f'J{latent_dim}_IMED'\n",
    "\n",
    "\"\"\" extract FPR \"\"\"\n",
    "COLUMN_NAME = 'fpr'\n",
    "df = pd.read_csv(f\"{PATH}/{filename}.csv\",\n",
    "                usecols = [f'{COLUMN_NAME}']\n",
    "                ) \n",
    "print (filename, COLUMN_NAME)\n",
    "\n",
    "df_fpr = make_dataframe(df, column_name=COLUMN_NAME)\n",
    "#df_fpr\n",
    "\n",
    "# compute and add quantiles to dataframe:\n",
    "df_fpr['Q1'] = df_fpr.astype(float).quantile(q=0.25, axis=1, numeric_only=True, interpolation='linear').reset_index(drop=True)\n",
    "df_fpr['Q2'] = df_fpr.astype(float).quantile(q=0.50, axis=1, numeric_only=True, interpolation='linear').reset_index(drop=True)\n",
    "df_fpr['Q3'] = df_fpr.astype(float).quantile(q=0.75, axis=1, numeric_only=True, interpolation='linear').reset_index(drop=True)\n",
    "#df_fpr\n",
    "\n",
    "# save as numpy arrays:\n",
    "IMED_fprQ1 = df_fpr['Q1'].to_numpy()\n",
    "IMED_fprQ2 = df_fpr['Q2'].to_numpy()\n",
    "IMED_fprQ3 = df_fpr['Q3'].to_numpy()\n",
    "\n",
    "\"\"\" extract TPR \"\"\"\n",
    "COLUMN_NAME = 'tpr'\n",
    "df = pd.read_csv(f\"{PATH}/{filename}.csv\",\n",
    "                usecols = [f'{COLUMN_NAME}']\n",
    "                ) \n",
    "print (filename, COLUMN_NAME)\n",
    "\n",
    "# convert to dataframe:\n",
    "df_tpr = make_dataframe(df, column_name=COLUMN_NAME)\n",
    "\n",
    "# compute and add quantiles to dataframe:\n",
    "df_tpr['Q1'] = df_tpr.astype(float).quantile(q=0.25, axis=1, numeric_only=True, interpolation='linear').reset_index(drop=True)\n",
    "df_tpr['Q2'] = df_tpr.astype(float).quantile(q=0.50, axis=1, numeric_only=True, interpolation='linear').reset_index(drop=True)\n",
    "df_tpr['Q3'] = df_tpr.astype(float).quantile(q=0.75, axis=1, numeric_only=True, interpolation='linear').reset_index(drop=True)\n",
    "#df_tpr\n",
    "\n",
    "# save as numpy arrays:\n",
    "IMED_tprQ1 = df_tpr['Q1'].to_numpy()\n",
    "IMED_tprQ2 = df_tpr['Q2'].to_numpy()\n",
    "IMED_tprQ3 = df_tpr['Q3'].to_numpy()"
   ]
  },
  {
   "cell_type": "markdown",
   "metadata": {},
   "source": [
    "### Plot"
   ]
  },
  {
   "cell_type": "code",
   "execution_count": 21,
   "metadata": {},
   "outputs": [
    {
     "data": {
      "image/png": "[encoded data removed]",
      "text/plain": [
       "<Figure size 432x288 with 2 Axes>"
      ]
     },
     "metadata": {},
     "output_type": "display_data"
    }
   ],
   "source": [
    "LARGE_FRONT  = 20\n",
    "MEDIUM_FRONT = 18\n",
    "SMALL_FRONT  = 16\n",
    "\n",
    "sns.set_style(\"darkgrid\")\n",
    "mpl.rcParams['legend.handlelength'] = 0.8\n",
    "fig, ax = plt.subplots(1, 1, figsize = (6, 4))\n",
    "\n",
    "lw = 1.0\n",
    "\n",
    "ax.plot(SE_fprQ2 , SE_tprQ2, '-', color='purple', lw=lw)\n",
    "ax.fill_between(SE_fprQ2, SE_tprQ1, SE_tprQ3, alpha=0.2, edgecolor='purple', facecolor='purple', linewidth=1, \n",
    "                antialiased=True, label='SE')\n",
    " \n",
    "ax.plot(IMED_fprQ2 , IMED_tprQ2, '-', color='olive', lw=lw)\n",
    "ax.fill_between(IMED_fprQ2, IMED_tprQ1, IMED_tprQ3, alpha=0.2, edgecolor='goldenrod', facecolor='goldenrod', linewidth=1, \n",
    "                antialiased=True, label='IMED')\n",
    "\n",
    "ax.plot(SSIM_fprQ2 , SSIM_tprQ2, '-', color='g', lw=lw)\n",
    "ax.fill_between(SSIM_fprQ2, SSIM_tprQ1, SSIM_tprQ3, alpha=0.2, edgecolor='#1B2ACC', facecolor='g', linewidth=1, \n",
    "                antialiased=True, label='SSIM')\n",
    "\n",
    "ax.plot(ZNCC_fprQ2 , ZNCC_tprQ2, '-', color='crimson', lw=lw)\n",
    "ax.fill_between(ZNCC_fprQ2, ZNCC_tprQ1, ZNCC_tprQ3, alpha=0.2, edgecolor='firebrick', facecolor='firebrick', linewidth=1, \n",
    "                antialiased=True, label='ZNCC')\n",
    "\n",
    "ax.plot(GMSD_fprQ2 , GMSD_tprQ2, '-', color='navy', lw=lw)\n",
    "ax.fill_between(GMSD_fprQ2 , GMSD_tprQ1, GMSD_tprQ3, alpha=0.2, edgecolor='#1B2ACC', facecolor='#1B2ACC', linewidth=1, \n",
    "                antialiased=True, label='GMSD')\n",
    "\n",
    "plt.xlabel('False Positive Rate', fontsize=MEDIUM_FRONT) \n",
    "plt.ylabel('True Postive Rate', fontsize=MEDIUM_FRONT)\n",
    "plt.xlim([-0.02, 1.02])\n",
    "plt.ylim([-0.05, 1.05]) #plt.ylim([-0.02, 1.03])\n",
    "plt.title(\"Prior Chocolate Bar Test Set\", fontsize=LARGE_FRONT, pad=40)\n",
    "plt.tick_params(axis='both', which='major', labelsize=SMALL_FRONT)\n",
    "ax.legend(bbox_to_anchor=(0, 1.02, 1, 0.2), loc='lower left', mode='expand', borderaxespad=0, ncol=5,\n",
    "               numpoints=1, fontsize=15) \n",
    "\n",
    "# Zoom in on data:\n",
    "sns.set_style(\"whitegrid\")\n",
    "axins = inset_axes(ax, 2.5, 2.0, loc=4, borderpad=3)           # zoom-factor and location (loc)\n",
    "\n",
    "axins.plot(SE_fprQ2 , SE_tprQ2, '-', color='purple', lw=lw)\n",
    "axins.fill_between(SE_fprQ2, SE_tprQ1, SE_tprQ3, alpha=0.2, edgecolor='purple', facecolor='purple', linewidth=1, antialiased=True)\n",
    "\n",
    "axins.plot(IMED_fprQ2 , IMED_tprQ2, '-', color='olive', lw=lw)\n",
    "axins.fill_between(IMED_fprQ2, IMED_tprQ1, IMED_tprQ3, alpha=0.2, edgecolor='goldenrod', facecolor='goldenrod', linewidth=1, antialiased=True)\n",
    "\n",
    "axins.plot(SSIM_fprQ2 , SSIM_tprQ2, '-', color='g', lw=lw)\n",
    "axins.fill_between(SSIM_fprQ2, SSIM_tprQ1, SSIM_tprQ3, alpha=0.2, edgecolor='#1B2ACC', facecolor='g', linewidth=1, antialiased=True)\n",
    "\n",
    "axins.plot(ZNCC_fprQ2 , ZNCC_tprQ2, '-', color='crimson', lw=lw)\n",
    "axins.fill_between(ZNCC_fprQ2, ZNCC_tprQ1, ZNCC_tprQ3, alpha=0.2, edgecolor='firebrick', facecolor='firebrick', linewidth=1, antialiased=True)\n",
    "\n",
    "axins.plot(GMSD_fprQ2 , GMSD_tprQ2, '-', color='navy', lw=lw)\n",
    "axins.fill_between(GMSD_fprQ2 , GMSD_tprQ1, GMSD_tprQ3, alpha=0.2, edgecolor='#1B2ACC', facecolor='#1B2ACC', linewidth=1, antialiased=True)\n",
    "\n",
    "x1, x2, y1, y2 = 0.005, 0.1, 0.925, 1.005                         # specify the limits\n",
    "axins.set_xlim(x1, x2)                                          # apply the x-limits\n",
    "axins.set_ylim(y1, y2)                                          # apply the y-limits\n",
    "mark_inset(ax, axins, loc1=1, loc2=3, fc=\"none\", ec=\"0.5\")      # fancy zoom effect\n",
    "axins.tick_params(axis='both', which='major', labelsize=12)\n",
    "\n",
    "plt.gca()\n",
    "#if (save_plots):\n",
    "#    plt.savefig(f\"{FIGURES_FOLDER}/ROCQuantiles_kitkat.png\", dpi=300, bbox_inches='tight')\n",
    "plt.show()"
   ]
  },
  {
   "cell_type": "code",
   "execution_count": 22,
   "metadata": {},
   "outputs": [
    {
     "data": {
      "image/png": "[encoded data removed]",
      "text/plain": [
       "<Figure size 432x288 with 3 Axes>"
      ]
     },
     "metadata": {},
     "output_type": "display_data"
    }
   ],
   "source": [
    "LARGE_FRONT  = 20\n",
    "MEDIUM_FRONT = 18\n",
    "SMALL_FRONT  = 16\n",
    "\n",
    "sns.set_style(\"darkgrid\")\n",
    "mpl.rcParams['legend.handlelength'] = 0.8\n",
    "fig, ax = plt.subplots(1, 1, figsize = (6, 4))\n",
    "\n",
    "lw = 1.0\n",
    "\n",
    "ax.plot(SE_fprQ2 , SE_tprQ2, '-', color='purple', lw=lw)\n",
    "ax.fill_between(SE_fprQ2, SE_tprQ1, SE_tprQ3, alpha=0.2, edgecolor='purple', facecolor='purple', linewidth=1, \n",
    "                antialiased=True, label='SE')\n",
    " \n",
    "ax.plot(IMED_fprQ2 , IMED_tprQ2, '-', color='olive', lw=lw)\n",
    "ax.fill_between(IMED_fprQ2, IMED_tprQ1, IMED_tprQ3, alpha=0.2, edgecolor='goldenrod', facecolor='goldenrod', linewidth=1, \n",
    "                antialiased=True, label='IMED')\n",
    "\n",
    "ax.plot(SSIM_fprQ2 , SSIM_tprQ2, '-', color='g', lw=lw)\n",
    "ax.fill_between(SSIM_fprQ2, SSIM_tprQ1, SSIM_tprQ3, alpha=0.2, edgecolor='#1B2ACC', facecolor='g', linewidth=1, \n",
    "                antialiased=True, label='SSIM')\n",
    "\n",
    "ax.plot(ZNCC_fprQ2 , ZNCC_tprQ2, '-', color='crimson', lw=lw)\n",
    "ax.fill_between(ZNCC_fprQ2, ZNCC_tprQ1, ZNCC_tprQ3, alpha=0.2, edgecolor='firebrick', facecolor='firebrick', linewidth=1, \n",
    "                antialiased=True, label='ZNCC')\n",
    "\n",
    "ax.plot(GMSD_fprQ2 , GMSD_tprQ2, '-', color='navy', lw=lw)\n",
    "ax.fill_between(GMSD_fprQ2 , GMSD_tprQ1, GMSD_tprQ3, alpha=0.2, edgecolor='#1B2ACC', facecolor='#1B2ACC', linewidth=1, \n",
    "                antialiased=True, label='GMSD')\n",
    "\n",
    "plt.xlabel('False Positive Rate', fontsize=MEDIUM_FRONT) \n",
    "plt.ylabel('True Postive Rate', fontsize=MEDIUM_FRONT)\n",
    "plt.xlim([-0.02, 1.02])\n",
    "plt.ylim([-0.05, 1.05]) #plt.ylim([-0.02, 1.03])\n",
    "plt.title(\"Prior Chocolate Bar Test Set\", fontsize=LARGE_FRONT, pad=40)\n",
    "plt.tick_params(axis='both', which='major', labelsize=SMALL_FRONT)\n",
    "ax.legend(bbox_to_anchor=(0, 1.02, 1, 0.2), loc='lower left', mode='expand', borderaxespad=0, ncol=5,\n",
    "               numpoints=1, fontsize=15) \n",
    "\n",
    "# Zoom in on data:\n",
    "sns.set_style(\"whitegrid\")\n",
    "axins = inset_axes(ax, 2.0, 1.5, loc=1, borderpad=2)           # zoom-factor and location (loc)\n",
    "\n",
    "axins.plot(SE_fprQ2 , SE_tprQ2, '-', color='purple', lw=lw)\n",
    "axins.fill_between(SE_fprQ2, SE_tprQ1, SE_tprQ3, alpha=0.2, edgecolor='purple', facecolor='purple', linewidth=1, antialiased=True)\n",
    "\n",
    "axins.plot(IMED_fprQ2 , IMED_tprQ2, '-', color='olive', lw=lw)\n",
    "axins.fill_between(IMED_fprQ2, IMED_tprQ1, IMED_tprQ3, alpha=0.2, edgecolor='goldenrod', facecolor='goldenrod', linewidth=1, antialiased=True)\n",
    "\n",
    "axins.plot(SSIM_fprQ2 , SSIM_tprQ2, '-', color='g', lw=lw)\n",
    "axins.fill_between(SSIM_fprQ2, SSIM_tprQ1, SSIM_tprQ3, alpha=0.2, edgecolor='#1B2ACC', facecolor='g', linewidth=1, antialiased=True)\n",
    "\n",
    "axins.plot(ZNCC_fprQ2 , ZNCC_tprQ2, '-', color='crimson', lw=lw)\n",
    "axins.fill_between(ZNCC_fprQ2, ZNCC_tprQ1, ZNCC_tprQ3, alpha=0.2, edgecolor='firebrick', facecolor='firebrick', linewidth=1, antialiased=True)\n",
    "\n",
    "axins.plot(GMSD_fprQ2 , GMSD_tprQ2, '-', color='navy', lw=lw)\n",
    "axins.fill_between(GMSD_fprQ2 , GMSD_tprQ1, GMSD_tprQ3, alpha=0.2, edgecolor='#1B2ACC', facecolor='#1B2ACC', linewidth=1, antialiased=True)\n",
    "\n",
    "x1, x2, y1, y2 = 0.005, 0.1, 0.925, 1.005                         # specify the limits\n",
    "axins.set_xlim(x1, x2)                                          # apply the x-limits\n",
    "axins.set_ylim(y1, y2)                                          # apply the y-limits\n",
    "mark_inset(ax, axins, loc1=2, loc2=3, fc=\"none\", ec=\"0.6\")      # fancy zoom effect\n",
    "axins.tick_params(axis='both', which='major', labelsize=12)\n",
    "\n",
    "# Inset AUC scores:\n",
    "sns.set_style(\"whitegrid\")\n",
    "inset = fig.add_axes([0.25, 0.15, 0.6, 0.2])\n",
    "N = (1,2,3,4,5)\n",
    "ALL_AUC    = (AUC_SE, AUC_IMED, AUC_SSIM, AUC_ZNCC, AUC_GMSD)\n",
    "ALL_AUCERR = (AUCERR_SE, AUCERR_IMED, AUCERR_SSIM, AUCERR_ZNCC, AUCERR_GMSD)\n",
    "colors = ['purple', 'olive', 'g', 'crimson', 'navy']\n",
    "for pos, y, err, colors in zip(N, ALL_AUC, ALL_AUCERR, colors):\n",
    "    inset.errorbar(pos, y, err, fmt=\"o\", linewidth=2, elinewidth=2, capsize=5, capthick=2, markersize=4, color=colors)\n",
    "#inset.set_ylabel('AUC', fontsize=12)\n",
    "inset.set_title(\"AUC                                                        \", fontsize=14)\n",
    "inset.set_xticks([]) \n",
    "inset.tick_params(axis='both', which='major', labelsize=12)\n",
    "\n",
    "plt.gca()\n",
    "if (save_plots):\n",
    "    plt.savefig(f\"{FIGURES_FOLDER}/ROCQuantiles_kitkat.png\", dpi=300, bbox_inches='tight')\n",
    "plt.show()"
   ]
  }
 ],
 "metadata": {
  "kernelspec": {
   "display_name": "Python 3",
   "language": "python",
   "name": "python3"
  },
  "language_info": {
   "codemirror_mode": {
    "name": "ipython",
    "version": 3
   },
   "file_extension": ".py",
   "mimetype": "text/x-python",
   "name": "python",
   "nbconvert_exporter": "python",
   "pygments_lexer": "ipython3",
   "version": "3.7.6"
  }
 },
 "nbformat": 4,
 "nbformat_minor": 4
}
