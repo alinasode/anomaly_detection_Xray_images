{
 "cells": [
  {
   "cell_type": "code",
   "execution_count": 1,
   "metadata": {},
   "outputs": [],
   "source": [
    "import numpy as np\n",
    "import math\n",
    "\n",
    "from time import time"
   ]
  },
  {
   "cell_type": "code",
   "execution_count": 2,
   "metadata": {},
   "outputs": [],
   "source": [
    "def get_G(img_h, sig):\n",
    "    \"\"\"\n",
    "    Compute the metric matrix used for the IMED\n",
    "    \n",
    "    Sorce: https://github.com/tangcc35/CNN_Compression/blob/master/src/DenseNet_merge_first_layer.ipynb\n",
    "    \"\"\"\n",
    "    G_matrix = np.zeros((img_h**2, img_h**2))\n",
    "    \n",
    "    for i1 in range(img_h):\n",
    "        for i2 in range(img_h):\n",
    "            for j1 in range(img_h):\n",
    "                for j2 in range(img_h):\n",
    "                    pixel_dist = 1 / (2*math.pi*(sig**2)) * math.exp(-((i1-i2)**2 + (j1-j2)**2) / (2*sig**2))\n",
    "                    G_matrix[img_h*i1+j1, img_h*i2+j2] = pixel_dist    # correct because: img^(h*k+l)\n",
    "    return G_matrix\n",
    "\n",
    "sig = 1           # e.g. sig in [0.1,0.25,0.5,1,1.5,2,2.5]."
   ]
  },
  {
   "cell_type": "code",
   "execution_count": 3,
   "metadata": {},
   "outputs": [
    {
     "name": "stdout",
     "output_type": "stream",
     "text": [
      "[INFO] computing matrix...\n",
      "         done in 8.162 minutes\n"
     ]
    }
   ],
   "source": [
    "# compute this matrix using image height 128:\n",
    "h = 128\n",
    "\n",
    "print(\"[INFO] computing the metric matrix...\")\n",
    "t0 = time()\n",
    "\n",
    "G = get_G(h, sig=sig)\n",
    "\n",
    "print (\"         done in %0.3f minutes\" % ((time() - t0)/60))"
   ]
  },
  {
   "cell_type": "code",
   "execution_count": 4,
   "metadata": {},
   "outputs": [
    {
     "name": "stdout",
     "output_type": "stream",
     "text": [
      "(16384, 16384) float64\n"
     ]
    }
   ],
   "source": [
    "print (G.shape, G.dtype)"
   ]
  },
  {
   "cell_type": "code",
   "execution_count": 6,
   "metadata": {},
   "outputs": [],
   "source": [
    "# save as npy file:\n",
    "np.save('pixel_gauss.npy', G)"
   ]
  }
 ],
 "metadata": {
  "kernelspec": {
   "display_name": "Python 3",
   "language": "python",
   "name": "python3"
  },
  "language_info": {
   "codemirror_mode": {
    "name": "ipython",
    "version": 3
   },
   "file_extension": ".py",
   "mimetype": "text/x-python",
   "name": "python",
   "nbconvert_exporter": "python",
   "pygments_lexer": "ipython3",
   "version": "3.7.6"
  }
 },
 "nbformat": 4,
 "nbformat_minor": 4
}
